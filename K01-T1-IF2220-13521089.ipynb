{
 "cells":[
  {
   "cell_type":"markdown",
   "source":[
    "# Tugas Besar IF2220 Probabilitas dan Statistika\n",
    "\n",
    "Author: Kenneth Ezekiel Suprantoni (13521089), Akbar Maulana Ridho (13521093) (Kelompok 11 K01)\n",
    "\n",
    "## Analisis Statistika\n",
    "\n",
    "1) Menulis deskripsi statistika (Descriptive Statistics) dari semua kolom pada data yang bersifat numerik, terdiri dari mean, median, modus, standar deviasi, variansi, range, nilai minimum, maksimum, kuartil, IQR, skewness dan kurtosis. Boleh juga ditambahkan deskripsi lain.\n",
    "2) Membuat Visualisasi plot distribusi, dalam bentuk histogram dan boxplot untuk setiap kolom numerik. Berikan uraian penjelasan kondisi setiap kolom berdasarkan kedua plot tersebut.\n",
    "3) Menentukan setiap kolom numerik berdistribusi normal atau tidak. Gunakan normality test yang dikaitkan dengan histogram plot.\n",
    "4) Melakukan test hipotesis 1 sampel,\n",
    "    - a. Nilai rata-rata pH di atas 3.29?\n",
    "    - b. Nilai rata-rata Residual Sugar tidak sama dengan 2.50?\n",
    "    - c. Nilai rata-rata 150 baris pertama kolom sulphates bukan 0.65?\n",
    "    - d. Nilai rata-rata total sulfur dioxide di bawah 35?\n",
    "    - e. Proporsi nilai total Sulfat Dioxide yang lebih dari 40, adalah tidak sama dengan 50% ?\n",
    "5) Melakukan test hipotesis 2 sampel,\n",
    "    - a. Data kolom fixed acidity dibagi 2 sama rata: bagian awal dan bagian akhir kolom. Benarkah rata-rata kedua bagian tersebut sama?\n",
    "    - b. Data kolom chlorides dibagi 2 sama rata: bagian awal dan bagian akhir kolom. Benarkah rata-rata bagian awal lebih besar daripada bagian akhir sebesar 0.001?\n",
    "    - c. Benarkah rata-rata sampel 25 baris pertama kolom Volatile Acidity sama dengan rata-rata 25 baris pertama kolom Sulphates ?\n",
    "    - d. Bagian awal kolom residual sugar memiliki variansi yang sama dengan bagian akhirnya?\n",
    "    - e. Proporsi nilai setengah bagian awal alcohol yang lebih dari 7, adalah lebih besar daripada, proporsi nilai yang sama di setengah bagian akhir alcohol?"
   ],
   "attachments":{
    
   },
   "metadata":{
    "datalore":{
     "node_id":"rg5RhpiaiRp4KPFhZW1QxW",
     "type":"MD",
     "hide_input_from_viewers":false,
     "hide_output_from_viewers":false,
     "report_properties":{
      "rowId":"iOeFugVOxR3r3IahFMpn3i"
     }
    }
   }
  },
  {
   "cell_type":"code",
   "source":[
    "import pandas as pd\n",
    "import matplotlib.pyplot as plt\n",
    "import numpy as np\n",
    "import scipy.stats as st\n",
    "from statsmodels.stats.proportion import proportions_ztest\n",
    "\n",
    "data = pd.read_csv('\/data\/notebook_files\/anggur.csv')\n",
    "data.describe()"
   ],
   "execution_count":1,
   "outputs":[
    {
     "data":{
      "text\/html":[
       "<div>\n",
       "<style scoped>\n",
       "    .dataframe tbody tr th:only-of-type {\n",
       "        vertical-align: middle;\n",
       "    }\n",
       "\n",
       "    .dataframe tbody tr th {\n",
       "        vertical-align: top;\n",
       "    }\n",
       "\n",
       "    .dataframe thead th {\n",
       "        text-align: right;\n",
       "    }\n",
       "<\/style>\n",
       "<table border=\"1\" class=\"dataframe\">\n",
       "  <thead>\n",
       "    <tr style=\"text-align: right;\">\n",
       "      <th><\/th>\n",
       "      <th>fixed acidity<\/th>\n",
       "      <th>volatile acidity<\/th>\n",
       "      <th>citric acid<\/th>\n",
       "      <th>residual sugar<\/th>\n",
       "      <th>chlorides<\/th>\n",
       "      <th>free sulfur dioxide<\/th>\n",
       "      <th>total sulfur dioxide<\/th>\n",
       "      <th>density<\/th>\n",
       "      <th>pH<\/th>\n",
       "      <th>sulphates<\/th>\n",
       "      <th>alcohol<\/th>\n",
       "      <th>quality<\/th>\n",
       "    <\/tr>\n",
       "  <\/thead>\n",
       "  <tbody>\n",
       "    <tr>\n",
       "      <th>count<\/th>\n",
       "      <td>1000.000000<\/td>\n",
       "      <td>1000.000000<\/td>\n",
       "      <td>1000.000000<\/td>\n",
       "      <td>1000.000000<\/td>\n",
       "      <td>1000.000000<\/td>\n",
       "      <td>1000.000000<\/td>\n",
       "      <td>1000.000000<\/td>\n",
       "      <td>1000.000000<\/td>\n",
       "      <td>1000.000000<\/td>\n",
       "      <td>1000.000000<\/td>\n",
       "      <td>1000.000000<\/td>\n",
       "      <td>1000.000000<\/td>\n",
       "    <\/tr>\n",
       "    <tr>\n",
       "      <th>mean<\/th>\n",
       "      <td>7.152530<\/td>\n",
       "      <td>0.520839<\/td>\n",
       "      <td>0.270517<\/td>\n",
       "      <td>2.567104<\/td>\n",
       "      <td>0.081195<\/td>\n",
       "      <td>14.907679<\/td>\n",
       "      <td>40.290150<\/td>\n",
       "      <td>0.995925<\/td>\n",
       "      <td>3.303610<\/td>\n",
       "      <td>0.598390<\/td>\n",
       "      <td>10.592280<\/td>\n",
       "      <td>7.958000<\/td>\n",
       "    <\/tr>\n",
       "    <tr>\n",
       "      <th>std<\/th>\n",
       "      <td>1.201598<\/td>\n",
       "      <td>0.095848<\/td>\n",
       "      <td>0.049098<\/td>\n",
       "      <td>0.987915<\/td>\n",
       "      <td>0.020111<\/td>\n",
       "      <td>4.888100<\/td>\n",
       "      <td>9.965767<\/td>\n",
       "      <td>0.002020<\/td>\n",
       "      <td>0.104875<\/td>\n",
       "      <td>0.100819<\/td>\n",
       "      <td>1.510706<\/td>\n",
       "      <td>0.902802<\/td>\n",
       "    <\/tr>\n",
       "    <tr>\n",
       "      <th>min<\/th>\n",
       "      <td>3.320000<\/td>\n",
       "      <td>0.139900<\/td>\n",
       "      <td>0.116700<\/td>\n",
       "      <td>0.032555<\/td>\n",
       "      <td>0.015122<\/td>\n",
       "      <td>0.194679<\/td>\n",
       "      <td>3.150000<\/td>\n",
       "      <td>0.988800<\/td>\n",
       "      <td>2.970000<\/td>\n",
       "      <td>0.290000<\/td>\n",
       "      <td>6.030000<\/td>\n",
       "      <td>5.000000<\/td>\n",
       "    <\/tr>\n",
       "    <tr>\n",
       "      <th>25%<\/th>\n",
       "      <td>6.377500<\/td>\n",
       "      <td>0.456100<\/td>\n",
       "      <td>0.237800<\/td>\n",
       "      <td>1.896330<\/td>\n",
       "      <td>0.066574<\/td>\n",
       "      <td>11.426717<\/td>\n",
       "      <td>33.785000<\/td>\n",
       "      <td>0.994600<\/td>\n",
       "      <td>3.230000<\/td>\n",
       "      <td>0.530000<\/td>\n",
       "      <td>9.560000<\/td>\n",
       "      <td>7.000000<\/td>\n",
       "    <\/tr>\n",
       "    <tr>\n",
       "      <th>50%<\/th>\n",
       "      <td>7.150000<\/td>\n",
       "      <td>0.524850<\/td>\n",
       "      <td>0.272200<\/td>\n",
       "      <td>2.519430<\/td>\n",
       "      <td>0.082167<\/td>\n",
       "      <td>14.860346<\/td>\n",
       "      <td>40.190000<\/td>\n",
       "      <td>0.996000<\/td>\n",
       "      <td>3.300000<\/td>\n",
       "      <td>0.595000<\/td>\n",
       "      <td>10.610000<\/td>\n",
       "      <td>8.000000<\/td>\n",
       "    <\/tr>\n",
       "    <tr>\n",
       "      <th>75%<\/th>\n",
       "      <td>8.000000<\/td>\n",
       "      <td>0.585375<\/td>\n",
       "      <td>0.302325<\/td>\n",
       "      <td>3.220873<\/td>\n",
       "      <td>0.095312<\/td>\n",
       "      <td>18.313098<\/td>\n",
       "      <td>47.022500<\/td>\n",
       "      <td>0.997200<\/td>\n",
       "      <td>3.370000<\/td>\n",
       "      <td>0.670000<\/td>\n",
       "      <td>11.622500<\/td>\n",
       "      <td>9.000000<\/td>\n",
       "    <\/tr>\n",
       "    <tr>\n",
       "      <th>max<\/th>\n",
       "      <td>11.490000<\/td>\n",
       "      <td>0.805100<\/td>\n",
       "      <td>0.409600<\/td>\n",
       "      <td>5.550755<\/td>\n",
       "      <td>0.140758<\/td>\n",
       "      <td>27.462525<\/td>\n",
       "      <td>69.960000<\/td>\n",
       "      <td>1.002600<\/td>\n",
       "      <td>3.710000<\/td>\n",
       "      <td>0.960000<\/td>\n",
       "      <td>15.020000<\/td>\n",
       "      <td>10.000000<\/td>\n",
       "    <\/tr>\n",
       "  <\/tbody>\n",
       "<\/table>\n",
       "<\/div>"
      ]
     },
     "metadata":{
      
     },
     "output_type":"display_data"
    }
   ],
   "metadata":{
    "datalore":{
     "node_id":"giyfNU1n8aJoQHdnCbO4ut",
     "type":"CODE",
     "hide_input_from_viewers":false,
     "hide_output_from_viewers":false,
     "report_properties":{
      "rowId":"45Ew11HvJ6NWSpvIJv1Lpo"
     }
    }
   }
  },
  {
   "cell_type":"markdown",
   "source":[
    "## 1. Menulis Deskripsi Statistika dari semua kolom pada data yang bersifat numerik\n",
    "\n",
    "* Mean\n",
    "* Median\n",
    "* Modus\n",
    "* Standar Deviasi\n",
    "* Variansi\n",
    "* Range\n",
    "* Nilai Minimum\n",
    "* Nilai Maksimum\n",
    "* Kuartil\n",
    "* Inter-quartile Range\n",
    "* Skewness\n",
    "* Kurtosis"
   ],
   "attachments":{
    
   },
   "metadata":{
    "datalore":{
     "node_id":"mM112T4U9cWsWidbSlUNlI",
     "type":"MD",
     "hide_input_from_viewers":false,
     "hide_output_from_viewers":false,
     "report_properties":{
      "rowId":"8xg5HNrHdaTwN2Z8w1FPLS"
     }
    }
   }
  },
  {
   "cell_type":"code",
   "source":[
    "dataframe_dict = {\n",
    "    \"Mean\":data.mean(),\n",
    "    \"Median\":data.median(),\n",
    "    \"Mode\":[data.round(2).mode(dropna=True)[x].tolist() for x in data],\n",
    "    \"Standard Deviation\":data.std(),\n",
    "    \"Variance\":data.var(),\n",
    "    \"Range\":data.max() - data.min(),\n",
    "    \"Min\":data.min(),\n",
    "    \"Max\":data.max(),\n",
    "    \"Q1\":data.quantile(0.25),\n",
    "    \"Q2\":data.quantile(0.5),\n",
    "    \"Q3\":data.quantile(0.75),\n",
    "    \"IQR\":data.quantile(0.75) - data.quantile(0.25),\n",
    "    \"Skewness\":data.skew(),\n",
    "    \"Kurtosis\":data.kurtosis()\n",
    "}\n",
    "\n",
    "print(\"Data Description:\")\n",
    "print(\"Note: mode is rounded to two decimals to maximize accuracy of mode and nan signifies no more value\")\n",
    "dataframe_dict = pd.DataFrame(dataframe_dict).transpose()\n",
    "dataframe_dict"
   ],
   "execution_count":2,
   "outputs":[
    {
     "name":"stdout",
     "text":[
      "Data Description:\n",
      "Note: mode is rounded to two decimals to maximize accuracy of mode and nan signifies no more value\n"
     ],
     "output_type":"stream"
    },
    {
     "data":{
      "text\/html":[
       "<div>\n",
       "<style scoped>\n",
       "    .dataframe tbody tr th:only-of-type {\n",
       "        vertical-align: middle;\n",
       "    }\n",
       "\n",
       "    .dataframe tbody tr th {\n",
       "        vertical-align: top;\n",
       "    }\n",
       "\n",
       "    .dataframe thead th {\n",
       "        text-align: right;\n",
       "    }\n",
       "<\/style>\n",
       "<table border=\"1\" class=\"dataframe\">\n",
       "  <thead>\n",
       "    <tr style=\"text-align: right;\">\n",
       "      <th><\/th>\n",
       "      <th>fixed acidity<\/th>\n",
       "      <th>volatile acidity<\/th>\n",
       "      <th>citric acid<\/th>\n",
       "      <th>residual sugar<\/th>\n",
       "      <th>chlorides<\/th>\n",
       "      <th>free sulfur dioxide<\/th>\n",
       "      <th>total sulfur dioxide<\/th>\n",
       "      <th>density<\/th>\n",
       "      <th>pH<\/th>\n",
       "      <th>sulphates<\/th>\n",
       "      <th>alcohol<\/th>\n",
       "      <th>quality<\/th>\n",
       "    <\/tr>\n",
       "  <\/thead>\n",
       "  <tbody>\n",
       "    <tr>\n",
       "      <th>Mean<\/th>\n",
       "      <td>7.15253<\/td>\n",
       "      <td>0.520839<\/td>\n",
       "      <td>0.270517<\/td>\n",
       "      <td>2.567104<\/td>\n",
       "      <td>0.081195<\/td>\n",
       "      <td>14.907679<\/td>\n",
       "      <td>40.29015<\/td>\n",
       "      <td>0.995925<\/td>\n",
       "      <td>3.30361<\/td>\n",
       "      <td>0.59839<\/td>\n",
       "      <td>10.59228<\/td>\n",
       "      <td>7.958<\/td>\n",
       "    <\/tr>\n",
       "    <tr>\n",
       "      <th>Median<\/th>\n",
       "      <td>7.15<\/td>\n",
       "      <td>0.52485<\/td>\n",
       "      <td>0.2722<\/td>\n",
       "      <td>2.51943<\/td>\n",
       "      <td>0.082167<\/td>\n",
       "      <td>14.860346<\/td>\n",
       "      <td>40.19<\/td>\n",
       "      <td>0.996<\/td>\n",
       "      <td>3.3<\/td>\n",
       "      <td>0.595<\/td>\n",
       "      <td>10.61<\/td>\n",
       "      <td>8.0<\/td>\n",
       "    <\/tr>\n",
       "    <tr>\n",
       "      <th>Mode<\/th>\n",
       "      <td>[6.54, nan, nan, nan, nan, nan, nan]<\/td>\n",
       "      <td>[0.54, nan, nan, nan, nan, nan, nan]<\/td>\n",
       "      <td>[0.27, nan, nan, nan, nan, nan, nan]<\/td>\n",
       "      <td>[2.67, 2.94, nan, nan, nan, nan, nan]<\/td>\n",
       "      <td>[0.09, nan, nan, nan, nan, nan, nan]<\/td>\n",
       "      <td>[13.21, nan, nan, nan, nan, nan, nan]<\/td>\n",
       "      <td>[35.2, 37.25, 39.64, 40.61, 41.05, 41.59, 44.51]<\/td>\n",
       "      <td>[1.0, nan, nan, nan, nan, nan, nan]<\/td>\n",
       "      <td>[3.34, nan, nan, nan, nan, nan, nan]<\/td>\n",
       "      <td>[0.59, nan, nan, nan, nan, nan, nan]<\/td>\n",
       "      <td>[9.86, 10.31, nan, nan, nan, nan, nan]<\/td>\n",
       "      <td>[8.0, nan, nan, nan, nan, nan, nan]<\/td>\n",
       "    <\/tr>\n",
       "    <tr>\n",
       "      <th>Standard Deviation<\/th>\n",
       "      <td>1.201598<\/td>\n",
       "      <td>0.095848<\/td>\n",
       "      <td>0.049098<\/td>\n",
       "      <td>0.987915<\/td>\n",
       "      <td>0.020111<\/td>\n",
       "      <td>4.8881<\/td>\n",
       "      <td>9.965767<\/td>\n",
       "      <td>0.00202<\/td>\n",
       "      <td>0.104875<\/td>\n",
       "      <td>0.100819<\/td>\n",
       "      <td>1.510706<\/td>\n",
       "      <td>0.902802<\/td>\n",
       "    <\/tr>\n",
       "    <tr>\n",
       "      <th>Variance<\/th>\n",
       "      <td>1.443837<\/td>\n",
       "      <td>0.009187<\/td>\n",
       "      <td>0.002411<\/td>\n",
       "      <td>0.975977<\/td>\n",
       "      <td>0.000404<\/td>\n",
       "      <td>23.893519<\/td>\n",
       "      <td>99.316519<\/td>\n",
       "      <td>0.000004<\/td>\n",
       "      <td>0.010999<\/td>\n",
       "      <td>0.010164<\/td>\n",
       "      <td>2.282233<\/td>\n",
       "      <td>0.815051<\/td>\n",
       "    <\/tr>\n",
       "    <tr>\n",
       "      <th>Range<\/th>\n",
       "      <td>8.17<\/td>\n",
       "      <td>0.6652<\/td>\n",
       "      <td>0.2929<\/td>\n",
       "      <td>5.5182<\/td>\n",
       "      <td>0.125635<\/td>\n",
       "      <td>27.267847<\/td>\n",
       "      <td>66.81<\/td>\n",
       "      <td>0.0138<\/td>\n",
       "      <td>0.74<\/td>\n",
       "      <td>0.67<\/td>\n",
       "      <td>8.99<\/td>\n",
       "      <td>5.0<\/td>\n",
       "    <\/tr>\n",
       "    <tr>\n",
       "      <th>Min<\/th>\n",
       "      <td>3.32<\/td>\n",
       "      <td>0.1399<\/td>\n",
       "      <td>0.1167<\/td>\n",
       "      <td>0.032555<\/td>\n",
       "      <td>0.015122<\/td>\n",
       "      <td>0.194679<\/td>\n",
       "      <td>3.15<\/td>\n",
       "      <td>0.9888<\/td>\n",
       "      <td>2.97<\/td>\n",
       "      <td>0.29<\/td>\n",
       "      <td>6.03<\/td>\n",
       "      <td>5.0<\/td>\n",
       "    <\/tr>\n",
       "    <tr>\n",
       "      <th>Max<\/th>\n",
       "      <td>11.49<\/td>\n",
       "      <td>0.8051<\/td>\n",
       "      <td>0.4096<\/td>\n",
       "      <td>5.550755<\/td>\n",
       "      <td>0.140758<\/td>\n",
       "      <td>27.462525<\/td>\n",
       "      <td>69.96<\/td>\n",
       "      <td>1.0026<\/td>\n",
       "      <td>3.71<\/td>\n",
       "      <td>0.96<\/td>\n",
       "      <td>15.02<\/td>\n",
       "      <td>10.0<\/td>\n",
       "    <\/tr>\n",
       "    <tr>\n",
       "      <th>Q1<\/th>\n",
       "      <td>6.3775<\/td>\n",
       "      <td>0.4561<\/td>\n",
       "      <td>0.2378<\/td>\n",
       "      <td>1.89633<\/td>\n",
       "      <td>0.066574<\/td>\n",
       "      <td>11.426717<\/td>\n",
       "      <td>33.785<\/td>\n",
       "      <td>0.9946<\/td>\n",
       "      <td>3.23<\/td>\n",
       "      <td>0.53<\/td>\n",
       "      <td>9.56<\/td>\n",
       "      <td>7.0<\/td>\n",
       "    <\/tr>\n",
       "    <tr>\n",
       "      <th>Q2<\/th>\n",
       "      <td>7.15<\/td>\n",
       "      <td>0.52485<\/td>\n",
       "      <td>0.2722<\/td>\n",
       "      <td>2.51943<\/td>\n",
       "      <td>0.082167<\/td>\n",
       "      <td>14.860346<\/td>\n",
       "      <td>40.19<\/td>\n",
       "      <td>0.996<\/td>\n",
       "      <td>3.3<\/td>\n",
       "      <td>0.595<\/td>\n",
       "      <td>10.61<\/td>\n",
       "      <td>8.0<\/td>\n",
       "    <\/tr>\n",
       "    <tr>\n",
       "      <th>Q3<\/th>\n",
       "      <td>8.0<\/td>\n",
       "      <td>0.585375<\/td>\n",
       "      <td>0.302325<\/td>\n",
       "      <td>3.220873<\/td>\n",
       "      <td>0.095312<\/td>\n",
       "      <td>18.313098<\/td>\n",
       "      <td>47.0225<\/td>\n",
       "      <td>0.9972<\/td>\n",
       "      <td>3.37<\/td>\n",
       "      <td>0.67<\/td>\n",
       "      <td>11.6225<\/td>\n",
       "      <td>9.0<\/td>\n",
       "    <\/tr>\n",
       "    <tr>\n",
       "      <th>IQR<\/th>\n",
       "      <td>1.6225<\/td>\n",
       "      <td>0.129275<\/td>\n",
       "      <td>0.064525<\/td>\n",
       "      <td>1.324544<\/td>\n",
       "      <td>0.028738<\/td>\n",
       "      <td>6.886381<\/td>\n",
       "      <td>13.2375<\/td>\n",
       "      <td>0.0026<\/td>\n",
       "      <td>0.14<\/td>\n",
       "      <td>0.14<\/td>\n",
       "      <td>2.0625<\/td>\n",
       "      <td>2.0<\/td>\n",
       "    <\/tr>\n",
       "    <tr>\n",
       "      <th>Skewness<\/th>\n",
       "      <td>-0.028879<\/td>\n",
       "      <td>-0.197699<\/td>\n",
       "      <td>-0.045576<\/td>\n",
       "      <td>0.132638<\/td>\n",
       "      <td>-0.051319<\/td>\n",
       "      <td>0.00713<\/td>\n",
       "      <td>-0.02406<\/td>\n",
       "      <td>-0.076883<\/td>\n",
       "      <td>0.147673<\/td>\n",
       "      <td>0.149199<\/td>\n",
       "      <td>-0.018991<\/td>\n",
       "      <td>-0.089054<\/td>\n",
       "    <\/tr>\n",
       "    <tr>\n",
       "      <th>Kurtosis<\/th>\n",
       "      <td>-0.019292<\/td>\n",
       "      <td>0.161853<\/td>\n",
       "      <td>-0.104679<\/td>\n",
       "      <td>-0.04298<\/td>\n",
       "      <td>-0.246508<\/td>\n",
       "      <td>-0.364964<\/td>\n",
       "      <td>0.06395<\/td>\n",
       "      <td>0.016366<\/td>\n",
       "      <td>0.08091<\/td>\n",
       "      <td>0.064819<\/td>\n",
       "      <td>-0.131732<\/td>\n",
       "      <td>0.108291<\/td>\n",
       "    <\/tr>\n",
       "  <\/tbody>\n",
       "<\/table>\n",
       "<\/div>"
      ]
     },
     "metadata":{
      
     },
     "output_type":"display_data"
    }
   ],
   "metadata":{
    "datalore":{
     "node_id":"7ylK9YLikIsS8xDmP4q8Uo",
     "type":"CODE",
     "hide_input_from_viewers":false,
     "hide_output_from_viewers":false,
     "report_properties":{
      "rowId":"ZpqJr3TE0gYoPBbYA5wkjW"
     }
    }
   }
  },
  {
   "cell_type":"markdown",
   "source":[
    "## 2. Visualisasi Data\n",
    "\n",
    "Visualisasi data dilakukan per kolom atau atribut, yang dibagi menjadi histogram dan boxplot.\n",
    "\n",
    "Urutan atribut akan berubah dari urutan pada tabel utama, karena terdapat sorting sehingga urutan pertama adalah atribut dengan mean terkecil.\n",
    "Urutan atributnya adalah sebagai berikut:\n",
    "\n",
    "* Chlorides\n",
    "* Citric acid\n",
    "* Volatile acidity\n",
    "* Sulphates\n",
    "* Density\n",
    "* Residual sugar\n",
    "* pH\n",
    "* Fixed acidity\n",
    "* Quality\n",
    "* Alcohol\n",
    "* Free sulphur dioxide\n",
    "* Total sulphur dioxide"
   ],
   "attachments":{
    
   },
   "metadata":{
    "datalore":{
     "node_id":"Ex0p81S9Tvc9wCsj4zR4kD",
     "type":"MD",
     "hide_input_from_viewers":true,
     "hide_output_from_viewers":false,
     "report_properties":{
      "rowId":"RZsjk5JqYGbysT6y0UmIey"
     }
    }
   }
  },
  {
   "cell_type":"code",
   "source":[
    "# sort column order by mean values ascending\n",
    "data = data.reindex(data.mean().sort_values().index, axis=1)\n",
    "\n",
    "def plot_attribute(data ,attr):\n",
    "  fig, axes = plt.subplots(1, 2)\n",
    "  data[attr].plot(kind='hist',edgecolor='black', ax=axes[0], figsize=(10,6), title=\"Histogram \"+attr, bins=15)\n",
    "  data.boxplot(attr, ax=axes[1]).set_title(\"Boxplot \" + attr)\n",
    "    \n",
    "def plot_discrete_attribute(data ,attr):\n",
    "  fig, axes = plt.subplots(1, 2)\n",
    "  data[attr].plot(kind='hist',edgecolor='black', ax=axes[0], figsize=(10,6), title=\"Histogram \"+attr)\n",
    "  data.boxplot(attr, ax=axes[1]).set_title(\"Boxplot \" + attr)"
   ],
   "execution_count":3,
   "outputs":[
    
   ],
   "metadata":{
    "datalore":{
     "node_id":"U5uU2LBeGw8jEB6K0DDMGC",
     "type":"CODE",
     "hide_input_from_viewers":false,
     "hide_output_from_viewers":false,
     "report_properties":{
      "rowId":"qX91MbrUQWGRWFdmg0qf5Q"
     }
    }
   }
  },
  {
   "cell_type":"markdown",
   "source":[
    "### Chlorides\n",
    "\n",
    "Kolom chlorides yang memiliki data desimal yang kontinu akan didekati dengan 15 bagian yang sama lebar, sehingga terjadi pendekatan diskrit pada data kontinu pada histogram.\n",
    "\n",
    "Chlorides memiliki range 0.12 dengan jarak antarkuartil 0.027 dan frekuensi terbesar terdapat pada range sekitar 0.09 sampai 0.1.\n",
    "\n",
    "Sekilas, tampak bahwa histogram Chlorides memiliki negative skewness, hal ini didukung juga dengan keberadaan mean (0.081) yang berada dibawah mode (0.09) dan ditengahi oleh median (0.082). Atribut chlorides hanya memiliki sedikit pencilan (Pencilan adalah data yang berada diluar kuartil pertama dan ketiga)."
   ],
   "attachments":{
    
   },
   "metadata":{
    "datalore":{
     "node_id":"ZNL2MEOhb2AdZQ3oBppJbg",
     "type":"MD",
     "hide_input_from_viewers":true,
     "hide_output_from_viewers":false,
     "report_properties":{
      "rowId":"WdsEMOGbR67jqEB7VLpK7w"
     }
    }
   }
  },
  {
   "cell_type":"code",
   "source":[
    "plot_attribute(data, 'chlorides')"
   ],
   "execution_count":4,
   "outputs":[
    {
     "data":{
      "image\/png":"[encoded data removed]"
     },
     "metadata":{
      "image\/png":{
       
      }
     },
     "output_type":"display_data"
    }
   ],
   "metadata":{
    "datalore":{
     "node_id":"h3dcPj3jOvTnR0nILp9Zz5",
     "type":"CODE",
     "hide_input_from_viewers":false,
     "hide_output_from_viewers":false,
     "report_properties":{
      "rowId":"TatQNnC3VtfZT847s2FqJN"
     }
    }
   }
  },
  {
   "cell_type":"markdown",
   "source":[
    "### Citric acid\n",
    "\n",
    "Kolom citric acid yang memiliki data desimal yang kontinu akan didekati dengan 15 bagian yang sama lebar, sehingga terjadi pendekatan diskrit pada data kontinu pada histogram.\n",
    "\n",
    "Kolom citric acid memiliki range sebesar 0.29, dengan jarak antarkuartilnya yang kecil (0.06) dan memiliki frekuensi tertinggi pada range sekitar 0.25 sampai 0.275 di 160.\n",
    "\n",
    "Sekilas, tampak bahwa histogram citric acid memiliki negative skewness, hal ini juga didukung oleh data skewness citric acid (-0.04). Terdapat beberapa pencilan pada boxplot citric acid, dengan frekuensi pencilan lebih banyak berada di bawah Q1-1.5IQR dibanding diatas Q3+1.5IQR."
   ],
   "attachments":{
    
   },
   "metadata":{
    "datalore":{
     "node_id":"YArJP96shUIZHvZPK1psee",
     "type":"MD",
     "hide_input_from_viewers":false,
     "hide_output_from_viewers":false,
     "report_properties":{
      "rowId":"PiTC3Fe5N233rqwpcN0K4S"
     }
    }
   }
  },
  {
   "cell_type":"code",
   "source":[
    "plot_attribute(data, 'citric acid')"
   ],
   "execution_count":5,
   "outputs":[
    {
     "data":{
      "image\/png":"[encoded data removed]"
     },
     "metadata":{
      "image\/png":{
       
      }
     },
     "output_type":"display_data"
    }
   ],
   "metadata":{
    "datalore":{
     "node_id":"QpAUUd786yIszYh6F3XJJM",
     "type":"CODE",
     "hide_input_from_viewers":false,
     "hide_output_from_viewers":false,
     "report_properties":{
      "rowId":"GOjli6Z0eQkGHUx4aHt60O"
     }
    }
   }
  },
  {
   "cell_type":"markdown",
   "source":[
    "### Volatile acidity\n",
    "\n",
    "Kolom citric acid yang memiliki data desimal yang kontinu akan didekati dengan 15 bagian yang sama lebar, sehingga terjadi pendekatan diskrit pada data kontinu pada histogram.\n",
    "\n",
    "Kolom volatile acidity memiliki range sebesar 0.06, dengan jarak antarkuartilnya sebesar 0.129 dan frekuensi terbesar berada pada range 0.55-0.6. \n",
    "\n",
    "Sekilas terlihat bahwa histogram memiliki negative skewness walau memiliki ekor yang lebih panjang di < 0.55, hal ini didukung dengan skewnessnya yang bernilai -0.19 dan mean 0.52 < median 0.524 < mode 0.54. Volatile Acidity juga memiliki outliers yang kebanyakan berada di bawah range Q1 - 1.5IQR."
   ],
   "attachments":{
    
   },
   "metadata":{
    "datalore":{
     "node_id":"vVurIUF9J4sHpv505f1uQ1",
     "type":"MD",
     "hide_input_from_viewers":true,
     "hide_output_from_viewers":false,
     "report_properties":{
      "rowId":"8E9EA4DZZ93x5Z7cm13qPy"
     }
    }
   }
  },
  {
   "cell_type":"code",
   "source":[
    "plot_attribute(data, 'volatile acidity')"
   ],
   "execution_count":6,
   "outputs":[
    {
     "data":{
      "image\/png":"[encoded data removed]"
     },
     "metadata":{
      "image\/png":{
       
      }
     },
     "output_type":"display_data"
    }
   ],
   "metadata":{
    "datalore":{
     "node_id":"LCcUqabJnSx7zwtPr3UhlL",
     "type":"CODE",
     "hide_input_from_viewers":false,
     "hide_output_from_viewers":false,
     "report_properties":{
      "rowId":"oXBehy63o3oYnwl9Se1awe"
     }
    }
   }
  },
  {
   "cell_type":"markdown",
   "source":[
    "### Sulphates\n",
    "\n",
    "Kolom sulphates yang memiliki data desimal yang kontinu akan didekati dengan 15 bagian yang sama lebar, sehingga terjadi pendekatan diskrit pada data kontinu pada histogram. \n",
    "\n",
    "Kolom ini memiliki range sebesar 0.67 dengan jarak antar kuartil 0.14, dan frekuensi terbesar berada pada range 0.55-0.6.\n",
    "\n",
    "\n",
    "Skewness dari histogram diperkirakan positif dari bentuknya dan dapat dikonfirmasi bahwa skewness suplhates bernilai 0.15.\n",
    "Dapat dilihat juga, pencilan terdapat lebih banyak pada Q3+1.5IQR."
   ],
   "attachments":{
    
   },
   "metadata":{
    "datalore":{
     "node_id":"Fgsv2GsmV1GZsXLbS4RJST",
     "type":"MD",
     "hide_input_from_viewers":true,
     "hide_output_from_viewers":false,
     "report_properties":{
      "rowId":"pTQNCspHkjNSTCInN07k3x"
     }
    }
   }
  },
  {
   "cell_type":"code",
   "source":[
    "plot_attribute(data, 'sulphates')"
   ],
   "execution_count":7,
   "outputs":[
    {
     "data":{
      "image\/png":"[encoded data removed]"
     },
     "metadata":{
      "image\/png":{
       
      }
     },
     "output_type":"display_data"
    }
   ],
   "metadata":{
    "datalore":{
     "node_id":"n4R6R3NialsfMdoJdPVPT2",
     "type":"CODE",
     "hide_input_from_viewers":false,
     "hide_output_from_viewers":false,
     "report_properties":{
      "rowId":"HBh9ZqpBMai3ybvd5etPjT"
     }
    }
   }
  },
  {
   "cell_type":"markdown",
   "source":[
    "### Density\n",
    "\n",
    "Kolom density yang memiliki data desimal yang kontinu akan didekati dengan 15 bagian yang sama lebar, sehingga terjadi pendekatan diskrit pada data kontinu pada histogram.\n",
    "\n",
    "Atribut ini memiliki range 0.013 dengan jarak antarkuartil sebesar 0.002 dan frekuensi terbesar pada range 0.995-0.996 tetapi diikuti dengan range 0.996-0.997 yang memiliki frekuensi yang tidak jauh. Nilai kolom ini paling tidak tersebar seperti kolom lainnya. \n",
    "\n",
    "Kolom ini memiliki skewness negatif, sehingga bentuknya condong ke kanan, hal ini dapat dibuktikan dengan statistik skewness atribut density yang bernilai -0.0768. \n",
    "\n",
    "Pencilan yang terdapat pada Q3+1.5IQR berada lebih tersebar jika dibandingkan dengan pencilan yang berada di Q1-1.5IQR"
   ],
   "attachments":{
    
   },
   "metadata":{
    "datalore":{
     "node_id":"MRzZzwtiAi3o9P0elFxOty",
     "type":"MD",
     "hide_input_from_viewers":false,
     "hide_output_from_viewers":false,
     "report_properties":{
      "rowId":"e6XP77hx6TLbaC8oKpDPHu"
     }
    }
   }
  },
  {
   "cell_type":"code",
   "source":[
    "plot_attribute(data, 'density')"
   ],
   "execution_count":8,
   "outputs":[
    {
     "data":{
      "image\/png":"[encoded data removed]"
     },
     "metadata":{
      "image\/png":{
       
      }
     },
     "output_type":"display_data"
    }
   ],
   "metadata":{
    "datalore":{
     "node_id":"ZDjQBcbUus3QzNU48xvCkl",
     "type":"CODE",
     "hide_input_from_viewers":false,
     "hide_output_from_viewers":false,
     "report_properties":{
      "rowId":"b1VG5g0U3d2Kh0obJgLYjw"
     }
    }
   }
  },
  {
   "cell_type":"markdown",
   "source":[
    "### Residual sugar\n",
    "\n",
    "Kolom residual sugar yang memiliki data desimal yang kontinu akan didekati dengan 15 bagian yang sama lebar, sehingga terjadi pendekatan diskrit pada data kontinu pada histogram.\n",
    "\n",
    "Atribut ini memiliki range sebesar 5.5, dengan jarak antarkuartilnya yang kecil bila dibandingkan dengan range, yakni sebesar 1.3 dan memiliki frekuensi terbesar pada sekitar range 2.33-2.66\n",
    "\n",
    "Pencilan pada atribut ini berada di atas range Q3 + 1.5IQR. Data pada kolom ini cenderung tersebar jauh yang terlihat pada nilai range-nya yang besar. Kolom ini memiliki skewness positif, sehingga bentuknya condong ke kiri, hal ini dapat dilihat dari statistik skewness residual sugar yang bernilai 0.13, tetapi karena skewness tidak terlalu besar maka dapat didekati dengan distribusi simetris."
   ],
   "attachments":{
    
   },
   "metadata":{
    "datalore":{
     "node_id":"SEn3o5yla15SRcrbfxnYiu",
     "type":"MD",
     "hide_input_from_viewers":true,
     "hide_output_from_viewers":false,
     "report_properties":{
      "rowId":"rDIjBgkm99pG32w9cuhJMh"
     }
    }
   }
  },
  {
   "cell_type":"code",
   "source":[
    "plot_attribute(data, 'residual sugar')"
   ],
   "execution_count":9,
   "outputs":[
    {
     "data":{
      "image\/png":"[encoded data removed]"
     },
     "metadata":{
      "image\/png":{
       
      }
     },
     "output_type":"display_data"
    }
   ],
   "metadata":{
    "datalore":{
     "node_id":"JlY5zzuO36JpX3LSeBgWuO",
     "type":"CODE",
     "hide_input_from_viewers":false,
     "hide_output_from_viewers":false,
     "report_properties":{
      "rowId":"eeSVPotiSRd57kwEEK16bL"
     }
    }
   }
  },
  {
   "cell_type":"markdown",
   "source":[
    "### pH\n",
    "\n",
    "Kolom pH yang memiliki data desimal yang kontinu akan didekati dengan 15 bagian yang sama lebar, sehingga terjadi pendekatan diskrit pada data kontinu pada histogram.\n",
    "\n",
    "Atribut ini memiliki range 0.739 dengan IQR 0.14, yang menunjukkan bahwa data tersebut lebih tersebar secara terpusat di titik tengah atau sekitar kuartil kedua. Frekuensi tertinggi pada atribut ini terdapat pada sekitar range 3.2-3.4.\n",
    "\n",
    "Tampak bahwa grafik histogram memiliki skewness positif karena lebih condong ke kiri alias data lebih terkumpul di kiri (value mode < value median < value mean) dengan skewness 0.147. Tetapi dapat diperhatikan bahwa condong dari grafik tidak terlalu signifikan, sehingga bisa juga didekati distribusi simetris, dapat ditunjukkan juga dengan skewness yang mendekati nilai 0 dan value mode = value median = value mean (dalam pembulatan 1 desimal)."
   ],
   "attachments":{
    
   },
   "metadata":{
    "datalore":{
     "node_id":"ytWbGw95B5xx0c5K1JHbfr",
     "type":"MD",
     "hide_input_from_viewers":false,
     "hide_output_from_viewers":false,
     "report_properties":{
      "rowId":"Bkqj2ToZ0diJEJDK6DjYMO"
     }
    }
   }
  },
  {
   "cell_type":"code",
   "source":[
    "plot_attribute(data, 'pH')"
   ],
   "execution_count":10,
   "outputs":[
    {
     "data":{
      "image\/png":"[encoded data removed]"
     },
     "metadata":{
      "image\/png":{
       
      }
     },
     "output_type":"display_data"
    }
   ],
   "metadata":{
    "datalore":{
     "node_id":"iQVyYNpQVfhknPXDXuQlru",
     "type":"CODE",
     "hide_input_from_viewers":false,
     "hide_output_from_viewers":false,
     "report_properties":{
      "rowId":"rGcT0cQyxnSBahIExMvfxR"
     }
    }
   }
  },
  {
   "cell_type":"markdown",
   "source":[
    "### Fixed acidity\n",
    "\n",
    "Kolom Fixed acidity yang memiliki data desimal yang kontinu akan didekati dengan 15 bagian yang sama lebar, sehingga terjadi pendekatan diskrit pada data kontinu pada histogram.\n",
    "\n",
    "Atribut ini memiliki range 8.17, dengan Jarak antarkuartil 1.62. Dapat dilihat bahwa frekuensi tertinggi berada pada sekitar 6.5 sampai 8. Terdapat perbedaan frekuensi yang drastis antara kedua frekuensi tertinggi dan frekuensi lainnya, hal ini disebabkan oleh data yang terpusat pada titik tengah.\n",
    "\n",
    "Pada grafik histogram, tampak sekilas bahwa grafik memiliki symmetrical distribution, dilihat dari statistik skewness nya, fixed acidity mempunyai skewness sebesar -0.02 yang berarti memiliki skewness negatif. Tetapi karena skewness cukup kecil maka tidak terlalu tampak pada grafik histogram sebagai negative skewness.\n",
    "\n",
    "Pencilan yang terdapat pada grafik boxplot juga sekilas terlihat identik secara jumlah dan letak, dengan pencilan pada Q1-1.5IQR lebih dekat satu sama lain."
   ],
   "attachments":{
    
   },
   "metadata":{
    "datalore":{
     "node_id":"v13vvnyqVJN6gDHL9RNdhx",
     "type":"MD",
     "hide_input_from_viewers":true,
     "hide_output_from_viewers":false,
     "report_properties":{
      "rowId":"Atz7p6l0xUDZbFiOqNWOr0"
     }
    }
   }
  },
  {
   "cell_type":"code",
   "source":[
    "plot_attribute(data, 'fixed acidity')"
   ],
   "execution_count":11,
   "outputs":[
    {
     "data":{
      "image\/png":"[encoded data removed]"
     },
     "metadata":{
      "image\/png":{
       
      }
     },
     "output_type":"display_data"
    }
   ],
   "metadata":{
    "datalore":{
     "node_id":"IXiYywpA2IdVcpEujsUHO8",
     "type":"CODE",
     "hide_input_from_viewers":false,
     "hide_output_from_viewers":false,
     "report_properties":{
      "rowId":"qq05oB1IJ1htBbNMpBU88U"
     }
    }
   }
  },
  {
   "cell_type":"markdown",
   "source":[
    "### Quality\n",
    "\n",
    "Kolom Quality yang memiliki data diskrit, sehingga akan di plot sesuai dengan value datanya.\n",
    "\n",
    "Atribut ini memiliki range 5 dengan IQR 5, dan frekuensi tertinggi ada di 8.\n",
    "\n",
    "Sekilas tampak seperti quality memiliki histogram dengan negative skewness, hal ini disebabkan oleh data bernilai 10 yang di plot di bagian kiri nilainya, walau sebenarnya memang benar data tersebut memiliki negative skewness, nyatanya skewness nya hanya bernilai -0.089.\n",
    "\n",
    "Tidak terdapat pencilan pada data quality seperti yang terlihat dalam boxplot.\n"
   ],
   "attachments":{
    
   },
   "metadata":{
    "datalore":{
     "node_id":"SGYPMDWS7bQ14s1c2rWcTc",
     "type":"MD",
     "hide_input_from_viewers":false,
     "hide_output_from_viewers":false,
     "report_properties":{
      "rowId":"gGarOaeyahN5LsqAQX05Ct"
     }
    }
   }
  },
  {
   "cell_type":"code",
   "source":[
    "plot_discrete_attribute(data, 'quality')"
   ],
   "execution_count":12,
   "outputs":[
    {
     "data":{
      "image\/png":"[encoded data removed]"
     },
     "metadata":{
      "image\/png":{
       
      }
     },
     "output_type":"display_data"
    }
   ],
   "metadata":{
    "datalore":{
     "node_id":"H1yos1EeF2SuUn54MAp5Ct",
     "type":"CODE",
     "hide_input_from_viewers":false,
     "hide_output_from_viewers":false,
     "report_properties":{
      "rowId":"IjSG67jr9xLu4feYLt1vx5"
     }
    }
   }
  },
  {
   "cell_type":"markdown",
   "source":[
    "### Alcohol\n",
    "\n",
    "Kolom Alcohol yang memiliki data desimal yang kontinu akan didekati dengan 15 bagian yang sama lebar, sehingga terjadi pendekatan diskrit pada data kontinu pada histogram.\n",
    "\n",
    "Atribut Alkohol memiliki range 8.99 dengan IQR 2.0625 dan frekuensi tertinggi ada pada sekitar range 10-11.\n",
    "\n",
    "Sekilas tampak data ini berdistribusi simetris, tetapi kenyataannya data ini memiliki skewness -0.018, meski relatif kecil.\n",
    "\n",
    "Pencilan pada kolom alcohol terdapat paling banyak pada Q1-1.5IQR."
   ],
   "attachments":{
    
   },
   "metadata":{
    "datalore":{
     "node_id":"JvWjZfpAr5qN8iMRvhqeGk",
     "type":"MD",
     "hide_input_from_viewers":true,
     "hide_output_from_viewers":false,
     "report_properties":{
      "rowId":"T7NXrQORDxGiyRL06g8eot"
     }
    }
   }
  },
  {
   "cell_type":"code",
   "source":[
    "plot_attribute(data, 'alcohol')"
   ],
   "execution_count":13,
   "outputs":[
    {
     "data":{
      "image\/png":"[encoded data removed]"
     },
     "metadata":{
      "image\/png":{
       
      }
     },
     "output_type":"display_data"
    }
   ],
   "metadata":{
    "datalore":{
     "node_id":"Jivf3HYduBEj231uNFtktu",
     "type":"CODE",
     "hide_input_from_viewers":false,
     "hide_output_from_viewers":false,
     "report_properties":{
      "rowId":"0ZIW9vtUEhXHhX6ntM4RfG"
     }
    }
   }
  },
  {
   "cell_type":"markdown",
   "source":[
    "### Free Sulfur Dioxide\n",
    "\n",
    "Kolom Free Sulfur Dioxide yang memiliki data desimal yang kontinu akan didekati dengan 15 bagian yang sama lebar, sehingga terjadi pendekatan diskrit pada data kontinu pada histogram.\n",
    "\n",
    "Atribut ini memiliki range sebesar 27.267847 dan IQR sebesar 6.88 dengan frekuensi terbesar berada di sekitar 15-16.\n",
    "\n",
    "Pada histogram, tampak bahwa data berdistribusi simetris dengan ekor yang lebih panjang di bagian kiri, hal tersebut didukung juga oleh skewness yang cukup kecil yakni 0.007.\n",
    "\n",
    "Pencilan pada kolom free sulfur dioxode hanya ada di Q1-1.5IQR yang berada dekat satu dengan yang lain."
   ],
   "attachments":{
    
   },
   "metadata":{
    "datalore":{
     "node_id":"OPaxtpQWpZsbFqexEsczUU",
     "type":"MD",
     "hide_input_from_viewers":true,
     "hide_output_from_viewers":false,
     "report_properties":{
      "rowId":"eB1bt5GaJiJm5QoAoeHoY8"
     }
    }
   }
  },
  {
   "cell_type":"code",
   "source":[
    "plot_attribute(data, \"free sulfur dioxide\")"
   ],
   "execution_count":14,
   "outputs":[
    {
     "data":{
      "image\/png":"[encoded data removed]"
     },
     "metadata":{
      "image\/png":{
       
      }
     },
     "output_type":"display_data"
    }
   ],
   "metadata":{
    "datalore":{
     "node_id":"ZqmUZrq43iei8T5vJ7mTqm",
     "type":"CODE",
     "hide_input_from_viewers":false,
     "hide_output_from_viewers":false,
     "report_properties":{
      "rowId":"XWSkLs0kxhyAxkLTfaz5rN"
     }
    }
   }
  },
  {
   "cell_type":"markdown",
   "source":[
    "### Total Sulfur Dioxide\n",
    "\n",
    "Kolom Total Sulfur Dioxide yang memiliki data desimal yang kontinu akan didekati dengan 15 bagian yang sama lebar, sehingga terjadi pendekatan diskrit pada data kontinu pada histogram.\n",
    "\n",
    "Atribut ini memiliki range sebesar 66.81 dan IQR sebesar 13.23, dengan frekuensi terbesar berada pada range sekitar 35-40.\n",
    "\n",
    "Tampak sekilas pada grafik histogram bahwa atribut ini memiliki skewness negatif, walau tidak terlalu besar. Hal ini dapat dibuktikan dengan statistik skewness total sulfur dioxide yang bernilai -0.02.\n",
    "\n",
    "Jumlah pencilan pada atribut ini terbagi rata antara Q1-1.5IQR dan Q3+1.5IQR, dengan pencilan yang berada pada Q3+1.5IQR berada lebih dekat satu dengan yang lain jika dibandingkan dengan pencilan pada Q1-1.5IQR.\n"
   ],
   "attachments":{
    
   },
   "metadata":{
    "datalore":{
     "node_id":"7SQuIZEhjYgXAdUTf61KGy",
     "type":"MD",
     "hide_input_from_viewers":true,
     "hide_output_from_viewers":false,
     "report_properties":{
      "rowId":"yNYDTFFCJv187R9Wvgkuzz"
     }
    }
   }
  },
  {
   "cell_type":"code",
   "source":[
    "plot_attribute(data, 'total sulfur dioxide')"
   ],
   "execution_count":15,
   "outputs":[
    {
     "data":{
      "image\/png":"[encoded data removed]"
     },
     "metadata":{
      "image\/png":{
       
      }
     },
     "output_type":"display_data"
    }
   ],
   "metadata":{
    "datalore":{
     "node_id":"Pv31P5mdSS6Gyv64FWOiFe",
     "type":"CODE",
     "hide_input_from_viewers":false,
     "hide_output_from_viewers":false,
     "report_properties":{
      "rowId":"PahJNyFdqrWcysTPomjRVD"
     }
    }
   }
  },
  {
   "cell_type":"markdown",
   "source":[
    "## 3. Menentukan setiap kolom numerik berdistribusi normal atau tidak. \n",
    "\n",
    "Gunakan normality test yang dikaitkan dengan histogram plot"
   ],
   "attachments":{
    
   },
   "metadata":{
    "datalore":{
     "node_id":"QkHFOVwedAu2vp2W7EYiGv",
     "type":"MD",
     "hide_input_from_viewers":false,
     "hide_output_from_viewers":false,
     "report_properties":{
      "rowId":"YoZ4f7AMsMOqaWWadbWgvm"
     }
    }
   }
  },
  {
   "cell_type":"markdown",
   "source":[
    "## Histogram plot\n",
    "\n",
    "Melakukan plotting sebuah kurva normal yang berdasarkan histogram.\n",
    "\n",
    "Bila diamati sekilas, terdapat 4 atribut yang diperkirakan tidak berdistribusi normal, volatile acidity, residual sugar, pH, dan sulphates. Hal tersebut juga dapat diamati pada grafik dibawah, dimana terdapat perbedaan yang cukup terlihat antara kurva normal nya dan histogram dari atribut tersebut."
   ],
   "attachments":{
    
   },
   "metadata":{
    "datalore":{
     "node_id":"2nRsJrr9S6Ie0fZ6HeVzbY",
     "type":"MD",
     "hide_input_from_viewers":true,
     "hide_output_from_viewers":false,
     "report_properties":{
      "rowId":"AuUQd17K9rn3qoZhD9meRe"
     }
    }
   }
  },
  {
   "cell_type":"code",
   "source":[
    "from scipy.stats import norm\n",
    " \n",
    "fig, axes = plt.subplots(3, 4, constrained_layout=True)\n",
    "columns = list(data.columns)\n",
    "\n",
    "for i in range(3):\n",
    "    for j in range(4):\n",
    "        column_name = columns[4*i+j]\n",
    "        axes[i,j].set_title(column_name)\n",
    "        axes[i,j].hist(data[column_name], density=True, alpha=0.6, color='b', bins=25)\n",
    "        x_min = data[column_name].min()\n",
    "        x_max = data[column_name].max()\n",
    "\n",
    "        x = np.linspace(x_min, x_max, 100)\n",
    "        y = norm.pdf(x, loc=data[column_name].mean(), scale=data[column_name].std())\n",
    "        axes[i,j].plot(x, y, color='r')\n",
    " \n",
    "# Depict illustration\n",
    "plt.show()"
   ],
   "execution_count":16,
   "outputs":[
    {
     "data":{
      "image\/png":"[encoded data removed]"
     },
     "metadata":{
      "image\/png":{
       
      }
     },
     "output_type":"display_data"
    }
   ],
   "metadata":{
    "datalore":{
     "node_id":"yjFOFxCFOgIV7GcabeUVeh",
     "type":"CODE",
     "hide_input_from_viewers":false,
     "hide_output_from_viewers":false,
     "report_properties":{
      "rowId":"8TLSthpDZuprRQLcJ91SzT"
     }
    }
   }
  },
  {
   "cell_type":"markdown",
   "source":[
    "Setelah melakukan normality test, diperoleh bahwa dengan nilai signifikansi 0.05 terdapat dua kolom yang tidak berdistribusi normal, yaitu volatile acidity dan free sulfur dioxide. Library yang kami gunakan untuk normal test menggunakan metode D’Agostino dan Pearson’s, yang memanfaatkan nilai skewness dan kurtosis untuk menentukan kenormalan suatu sampel atau populasi."
   ],
   "attachments":{
    
   },
   "metadata":{
    "datalore":{
     "node_id":"CBz9Q6tJv7SsAxFbvnObcT",
     "type":"MD",
     "hide_input_from_viewers":true,
     "hide_output_from_viewers":false,
     "report_properties":{
      "rowId":"NVftP1dudwCfXPwtMQyeHx"
     }
    }
   }
  },
  {
   "cell_type":"code",
   "source":[
    "\n",
    "p_values = [st.normaltest(data[column_name])[1] for column_name in data.columns]\n",
    "is_normals = [p >= 0.05 for p in p_values]\n",
    "\n",
    "normality = pd.DataFrame(data={\n",
    "    \"p_value\": p_values,\n",
    "    \"is_normal\": is_normals\n",
    "}, index=list(data.columns))\n",
    "\n",
    "normality"
   ],
   "execution_count":17,
   "outputs":[
    {
     "data":{
      "text\/html":[
       "<div>\n",
       "<style scoped>\n",
       "    .dataframe tbody tr th:only-of-type {\n",
       "        vertical-align: middle;\n",
       "    }\n",
       "\n",
       "    .dataframe tbody tr th {\n",
       "        vertical-align: top;\n",
       "    }\n",
       "\n",
       "    .dataframe thead th {\n",
       "        text-align: right;\n",
       "    }\n",
       "<\/style>\n",
       "<table border=\"1\" class=\"dataframe\">\n",
       "  <thead>\n",
       "    <tr style=\"text-align: right;\">\n",
       "      <th><\/th>\n",
       "      <th>p_value<\/th>\n",
       "      <th>is_normal<\/th>\n",
       "    <\/tr>\n",
       "  <\/thead>\n",
       "  <tbody>\n",
       "    <tr>\n",
       "      <th>chlorides<\/th>\n",
       "      <td>0.170483<\/td>\n",
       "      <td>True<\/td>\n",
       "    <\/tr>\n",
       "    <tr>\n",
       "      <th>citric acid<\/th>\n",
       "      <td>0.681690<\/td>\n",
       "      <td>True<\/td>\n",
       "    <\/tr>\n",
       "    <tr>\n",
       "      <th>volatile acidity<\/th>\n",
       "      <td>0.022581<\/td>\n",
       "      <td>False<\/td>\n",
       "    <\/tr>\n",
       "    <tr>\n",
       "      <th>sulphates<\/th>\n",
       "      <td>0.138843<\/td>\n",
       "      <td>True<\/td>\n",
       "    <\/tr>\n",
       "    <tr>\n",
       "      <th>density<\/th>\n",
       "      <td>0.598523<\/td>\n",
       "      <td>True<\/td>\n",
       "    <\/tr>\n",
       "    <tr>\n",
       "      <th>residual sugar<\/th>\n",
       "      <td>0.224667<\/td>\n",
       "      <td>True<\/td>\n",
       "    <\/tr>\n",
       "    <tr>\n",
       "      <th>pH<\/th>\n",
       "      <td>0.136787<\/td>\n",
       "      <td>True<\/td>\n",
       "    <\/tr>\n",
       "    <tr>\n",
       "      <th>fixed acidity<\/th>\n",
       "      <td>0.930858<\/td>\n",
       "      <td>True<\/td>\n",
       "    <\/tr>\n",
       "    <tr>\n",
       "      <th>quality<\/th>\n",
       "      <td>0.388814<\/td>\n",
       "      <td>True<\/td>\n",
       "    <\/tr>\n",
       "    <tr>\n",
       "      <th>alcohol<\/th>\n",
       "      <td>0.679088<\/td>\n",
       "      <td>True<\/td>\n",
       "    <\/tr>\n",
       "    <tr>\n",
       "      <th>free sulfur dioxide<\/th>\n",
       "      <td>0.017430<\/td>\n",
       "      <td>False<\/td>\n",
       "    <\/tr>\n",
       "    <tr>\n",
       "      <th>total sulfur dioxide<\/th>\n",
       "      <td>0.848885<\/td>\n",
       "      <td>True<\/td>\n",
       "    <\/tr>\n",
       "  <\/tbody>\n",
       "<\/table>\n",
       "<\/div>"
      ]
     },
     "metadata":{
      
     },
     "output_type":"display_data"
    }
   ],
   "metadata":{
    "datalore":{
     "node_id":"UL7P2bgegT7zLPm8cP5yBN",
     "type":"CODE",
     "hide_input_from_viewers":false,
     "hide_output_from_viewers":false,
     "report_properties":{
      "rowId":"ntskDYmJC3KylPPo1gDreh"
     }
    }
   }
  },
  {
   "cell_type":"markdown",
   "source":[
    "## 4. Melakukan test hipotesis 1 sampel\n",
    "- a. Nilai rata-rata pH di atas 3.29?\n",
    "- b. Nilai rata-rata Residual Sugar tidak sama dengan 2.50?\n",
    "- c. Nilai rata-rata 150 baris pertama kolom sulphates bukan 0.65?\n",
    "- d. Nilai rata-rata total sulfur dioxide di bawah 35?\n",
    "- e. Proporsi nilai total Sulfat Dioxide yang lebih dari 40, adalah tidak sama dengan 50% ?"
   ],
   "attachments":{
    
   },
   "metadata":{
    "datalore":{
     "node_id":"nZoasAJDmxK1hb2m4jGUeO",
     "type":"MD",
     "hide_input_from_viewers":false,
     "hide_output_from_viewers":false,
     "report_properties":{
      "rowId":"dTb58Pf6ZDFerLX5EnQuiB"
     }
    }
   }
  },
  {
   "cell_type":"markdown",
   "source":[
    "## Asumsi yang digunakan\n",
    "\n",
    "Pada dataset ini, standar deviasi populasi tidak diketahui. Meskipun begitu, \n",
    "jumlah sampel pada data ini bisa dianggap cukup besar sedemikian sehingga\n",
    "standar deviasi sampelnya bisa memberikan nilai yang mendekati standar deviasi\n",
    "populasi dan bisa memberi pendekatan nilai z-score yang baik.\n",
    "\n",
    "Fungsi pstdev merupakan fungsi yang menghitung standar deviasi populasi.\n",
    "Rumusnya adalah\n",
    "\n",
    "$$ stdev = \\sqrt{\\frac{\\sum_{i}^{n} (x_i - \\mu)^2}{N}}$$\n",
    "\n",
    "\n",
    "Bedanya dengan rumus standar deviasi sampel terletak pada pembaginya. \n",
    "Pada standar deviasi sampel, kita membagi dengan banyaknya sampel dikurangi dengan satu."
   ],
   "attachments":{
    
   },
   "metadata":{
    "datalore":{
     "node_id":"u6StZLntKuXz4jzqWkreLK",
     "type":"MD",
     "hide_input_from_viewers":true,
     "hide_output_from_viewers":false,
     "report_properties":{
      "rowId":"Xqrd6fGFRRRqO8fgb2UY6f"
     }
    }
   }
  },
  {
   "cell_type":"markdown",
   "source":[
    "## Fungsi untuk menghitung z-score\n",
    "\n",
    "Untuk menghitung $Z$ score dari sebuah sampel yang diambil dari suatu populasi:\n",
    "$$Z = \\frac{x_i - \\bar{x}}{\\sqrt{\\frac{\\sigma^2}{n}}}$$\n",
    "dimana $x$ : nilai observasi, $\\bar{x}$ : nilai rata-rata sampel, $\\sigma^2$ : variansi populasi, dan $n$ : jumlah sampel\n",
    "\n",
    "Untuk menghitung $Z$ score dari suatu populasi:\n",
    "$$Z = \\frac{x - \\mu}{\\sqrt{\\sigma^2}}$$\n",
    "dimana $x$ : nilai observasi, $\\mu$ : nilai rata-rata populasi, dan $\\sigma^2$ : variansi populasi"
   ],
   "attachments":{
    
   },
   "metadata":{
    "datalore":{
     "node_id":"BmmdPBICDs35Z2FG7MsxvL",
     "type":"MD",
     "hide_input_from_viewers":true,
     "hide_output_from_viewers":false,
     "report_properties":{
      "rowId":"lMmS202Vr74pGJD1BBDTzP"
     }
    }
   }
  },
  {
   "cell_type":"code",
   "source":[
    "from statistics import pstdev\n",
    "from scipy.stats import norm\n",
    "\n",
    "\"\"\"\n",
    "population mean: x bar\n",
    "h0: nilai hipotesis nol\n",
    "population_stdev: stdev populasi\n",
    "n_sample: banyak sampel\n",
    "\"\"\"\n",
    "def calculate_z_score(h0: float, population_stdev: float, n_samples: int, sample_mean: float) -> float:\n",
    "    return (sample_mean - h0)*np.sqrt(n_samples)\/population_stdev\n",
    "\n",
    "\"\"\"\n",
    "population mean: x bar\n",
    "h0: nilai hipotesis nol\n",
    "population_stdev: stdev populasi\n",
    "n_sample: banyak sampel\n",
    "\"\"\"\n",
    "def calculate_z_score_alt(h0: float, population_stdev: float, population_mean: float) -> float:\n",
    "    return (population_mean - h0)\/population_stdev"
   ],
   "execution_count":18,
   "outputs":[
    
   ],
   "metadata":{
    "datalore":{
     "node_id":"Z0RO8a0nGdr6WQOP9V5Btb",
     "type":"CODE",
     "hide_input_from_viewers":false,
     "hide_output_from_viewers":true,
     "report_properties":{
      "rowId":"uKOYQqbPSlPPRvQLEYPJ60"
     }
    }
   }
  },
  {
   "cell_type":"markdown",
   "source":[
    "## 4a. Apakah nilai rata-rata pH di atas 3.29?\n",
    "\n",
    "### Penyelesaian\n",
    "\n",
    "Untuk menentukan kebenaran dari hipotesa nilai rata-rata pH diatas 3.29, akan ditentukan hipotesa null dan hipotesa alternatif:\n",
    "\n",
    "$$H_0 : \\mu = 3.29$$\n",
    "$$H_1 : \\mu > 3.29$$\n",
    "\n",
    "dengan tingkat signifikansi $\\alpha = 0.05$\n",
    "\n",
    "Dengan hipotesa alternatif $H_1 : \\mu > 3.29$ maka didapatkan daerah kritis $$Z > Z_\\alpha = Z_{0.05} = 1.644$$\n",
    "\n",
    "Dan nilai \n",
    "$$Z = 4.10$$ dan $$P(Z < 4.10) = 2.01 \\times 10^{-5}$$\n",
    "\n",
    "Sehingga, karena $Z = 4.10 > 1.644$ dan $P(Z < 4.10) = 2.01 \\times 10^{-5} < \\alpha = 0.05 $ maka Hipotesa null dapat ditolak\n",
    "\n",
    "### Kesimpulan\n",
    "\n",
    "Nilai rata-rata pH > 3.29"
   ],
   "attachments":{
    
   },
   "metadata":{
    "datalore":{
     "node_id":"olvwozAgwc2jZsRnyaJRLs",
     "type":"MD",
     "hide_input_from_viewers":true,
     "hide_output_from_viewers":false,
     "report_properties":{
      "rowId":"GhKaTcEjl6bo51Y8POahuv"
     }
    }
   }
  },
  {
   "cell_type":"code",
   "source":[
    "def problem_4a():\n",
    "    print(\"\"\"\n",
    "    ------------ Hipotesa -----------------\n",
    "    Apakah nilai rata-rata pH di atas 3.29?\n",
    "    ---------------------------------------\n",
    "    \"\"\")\n",
    "\n",
    "\n",
    "    mean = data['pH'].mean()\n",
    "\n",
    "        \n",
    "    # Langkah 1 menentukan hipotesis nol\n",
    "    # H0 adalah rata-rata kurang dari sama dengan 3.29\n",
    "\n",
    "    # Langkah 2 menentukan hipotesis alternatif\n",
    "    # H1 adalah rata-rata di atas 3.29\n",
    "\n",
    "    target = 3.29\n",
    "\n",
    "    # Langkah 3 menentukan tingkat signifikansi alpha\n",
    "    alpha = 0.05\n",
    "\n",
    "\n",
    "    # Langkah 4 uji statistik dan daerah kritis\n",
    "    # Uji statistik\n",
    "    # Perhatikan bahwa jumlah sampel cukup besar dan berdistribusi normal, \n",
    "    # sehingga kita bisa menggunakan z-test. \n",
    "    # Selain itu, kita bisa membuat aproksimasi untuk nilai standar\n",
    "    # deviasi populasi.\n",
    "\n",
    "    # daerah kritis: z > z_alpha\n",
    "    z_alpha = norm.ppf(1-alpha)\n",
    "\n",
    "    # Langkah 5 hitung nilai uji statistik (P(z>Z))\n",
    "    z_score = calculate_z_score(target, pstdev(data['pH']), len(data['pH']), mean)\n",
    "    p_value = 1 - norm.cdf(z_score) # right tailed\n",
    "    variables = pd.DataFrame()\n",
    "    variables['mean'] = pd.DataFrame([mean]) \n",
    "    variables['z-alpha'] = pd.DataFrame([round(z_alpha, 3)])\n",
    "    variables['z-score'] = pd.DataFrame([round(z_score, 3)])\n",
    "    variables['p-value'] = pd.DataFrame([round(p_value, 3)])\n",
    "\n",
    "    # Langkah 6 ambil kesimpulan\n",
    "    if z_score > z_alpha:\n",
    "        print(f\"Berdasarkan z-value, Hipotesis nol ditolak karena {z_score:.2f} > {z_alpha:.2f}\")\n",
    "    else:\n",
    "        print(\"Berdasarkan z-value, Hipotesis nol gagal ditolak\")\n",
    "\n",
    "    if p_value < alpha:\n",
    "        print(f\"Berdasarkan tes signifikan, Hipotesis nol ditolak karena {p_value} < {alpha:.2f}\")\n",
    "    else:\n",
    "        print(\"Berdasarkan tes signifikan, Hipotesis nol gagal ditolak\")\n",
    "\n",
    "    print(\"\"\"\n",
    "    --------------- Kesimpulan --------------\n",
    "    nilai rata-rata pH adalah lebih dari 3.29\n",
    "    -----------------------------------------\"\"\")\n",
    "\n",
    "    return variables\n",
    "\n",
    "problem_4a()"
   ],
   "execution_count":19,
   "outputs":[
    {
     "name":"stdout",
     "text":[
      "\n",
      "    ------------ Hipotesa -----------------\n",
      "    Apakah nilai rata-rata pH di atas 3.29?\n",
      "    ---------------------------------------\n",
      "    \n",
      "Berdasarkan z-value, Hipotesis nol ditolak karena 4.11 > 1.64\n",
      "Berdasarkan tes signifikan, Hipotesis nol ditolak karena 2.014291646990074e-05 < 0.05\n",
      "\n",
      "    --------------- Kesimpulan --------------\n",
      "    nilai rata-rata pH adalah lebih dari 3.29\n",
      "    -----------------------------------------\n"
     ],
     "output_type":"stream"
    },
    {
     "data":{
      "text\/html":[
       "<div>\n",
       "<style scoped>\n",
       "    .dataframe tbody tr th:only-of-type {\n",
       "        vertical-align: middle;\n",
       "    }\n",
       "\n",
       "    .dataframe tbody tr th {\n",
       "        vertical-align: top;\n",
       "    }\n",
       "\n",
       "    .dataframe thead th {\n",
       "        text-align: right;\n",
       "    }\n",
       "<\/style>\n",
       "<table border=\"1\" class=\"dataframe\">\n",
       "  <thead>\n",
       "    <tr style=\"text-align: right;\">\n",
       "      <th><\/th>\n",
       "      <th>mean<\/th>\n",
       "      <th>z-alpha<\/th>\n",
       "      <th>z-score<\/th>\n",
       "      <th>p-value<\/th>\n",
       "    <\/tr>\n",
       "  <\/thead>\n",
       "  <tbody>\n",
       "    <tr>\n",
       "      <th>0<\/th>\n",
       "      <td>3.30361<\/td>\n",
       "      <td>1.645<\/td>\n",
       "      <td>4.106<\/td>\n",
       "      <td>0.0<\/td>\n",
       "    <\/tr>\n",
       "  <\/tbody>\n",
       "<\/table>\n",
       "<\/div>"
      ]
     },
     "metadata":{
      
     },
     "output_type":"display_data"
    }
   ],
   "metadata":{
    "datalore":{
     "node_id":"UmA7jHwGI4o75hXpMy4Pl0",
     "type":"CODE",
     "hide_input_from_viewers":false,
     "hide_output_from_viewers":false,
     "report_properties":{
      "rowId":"Ohy5CtlVg2xsr4QcvXkgnP"
     }
    }
   }
  },
  {
   "cell_type":"markdown",
   "source":[
    "## 4b. Apakah Apakah nilai rata-rata Residual Sugar tidak sama dengan 2.50?\n",
    "\n",
    "### Penyelesaian\n",
    "\n",
    "Untuk menentukan kebenaran dari hipotesa nilai rata-rata Residual Sugar tidak sama dengan 2.50, akan ditentukan hipotesa null dan hipotesa alternatif:\n",
    "\n",
    "$$H_0 : \\mu =2.50 $$\n",
    "$$H_1 : \\mu \\neq 2.50$$\n",
    "\n",
    "dengan tingkat signifikansi $\\alpha = 0.05$\n",
    "\n",
    "Dengan hipotesa alternatif $H_1 : \\mu \\neq 2.50$ maka didapatkan daerah kritis $$Z > Z_{\\alpha \/ 2} = Z_{0.025} = 1.96$$ atau $$Z < Z_{\\alpha \/ 2} = -Z_{0.025} = -1.96$$\n",
    "\n",
    "Dan nilai \n",
    "$$Z = 2.149$$ dan $$P = 2 \\times P(Z < -2.149) = 0.032$$\n",
    "\n",
    "Sehingga, karena $Z = 2.149 > 1.96$ dan $P = 0.032 < \\alpha = 0.05 $ maka Hipotesa null dapat ditolak\n",
    "\n",
    "### Kesimpulan\n",
    "\n",
    "Nilai rata-rata Residual Sugar $\\neq$ 2.50"
   ],
   "attachments":{
    
   },
   "metadata":{
    "datalore":{
     "node_id":"08dMZGsGcS520Q8hpGRmTv",
     "type":"MD",
     "hide_input_from_viewers":true,
     "hide_output_from_viewers":false,
     "report_properties":{
      "rowId":"zykmglqTTmQwkevAsHXrmA"
     }
    }
   }
  },
  {
   "cell_type":"code",
   "source":[
    "\n",
    "def problem_4b():\n",
    "    print(\"\"\"\n",
    "    ------------------------- Hipotesa --------------------------\n",
    "    Apakah nilai rata-rata Residual Sugar tidak sama dengan 2.50?\n",
    "    -------------------------------------------------------------\n",
    "    \"\"\")\n",
    "\n",
    "    mean = data['residual sugar'].mean()\n",
    "\n",
    "    # Langkah 1 menentukan hipotesis nol\n",
    "    # H0 adalah rata-rata sama dengan 2.5\n",
    "\n",
    "    # Langkah 2 menentukan hipotesis alternatif\n",
    "    # H1 adalah rata-rata tidak sama dengan 2.5\n",
    "\n",
    "    target = 2.5\n",
    "\n",
    "    # Langkah 3 menentukan tingkat signifikansi alpha\n",
    "    alpha = 0.05\n",
    "\n",
    "    # Langkah 4 uji statistik dan daerah kritis\n",
    "    # Uji statistik\n",
    "    # Perhatikan bahwa jumlah sampel cukup besar dan berdistribusi normal, \n",
    "    # sehingga kita bisa menggunakan z-test. \n",
    "    # Selain itu, kita bisa membuat aproksimasi untuk nilai standar\n",
    "    # deviasi populasi.\n",
    "\n",
    "    # daerah kritis: z > z_alpha\/2 atau z < -z_alpha\/2\n",
    "    z_alpha_low = norm.ppf(alpha\/2)\n",
    "    z_alpha_high = norm.ppf(1-(alpha\/2))\n",
    "\n",
    "    # Langkah 5 hitung nilai uji statistik\n",
    "    z_score = calculate_z_score(target, pstdev(data['residual sugar']), len(data['residual sugar']), mean)\n",
    "    p_value = 2*norm.cdf(-z_score) # two tailed\n",
    "\n",
    "    variables = pd.DataFrame()\n",
    "    variables['mean'] = pd.DataFrame([mean]) \n",
    "    variables['z-alpha-low'] = pd.DataFrame([round(z_alpha_low, 3)])\n",
    "    variables['z-alpha-high'] = pd.DataFrame([round(z_alpha_high, 3)])\n",
    "    variables['z-score'] = pd.DataFrame([round(z_score, 3)])\n",
    "    variables['p-value'] = pd.DataFrame([round(p_value, 3)])\n",
    "\n",
    "    # Langkah 6 ambil kesimpulan\n",
    "    if z_score > z_alpha_high or z_score < z_alpha_low:\n",
    "        print(f\"Berdasarkan z-value, Hipotesis nol ditolak karena {z_score:.2f} > {z_alpha_high:.2f} atau {z_score:.2f} < {z_alpha_low:.2f}\")\n",
    "    else:\n",
    "        print(\"Berdasarkan z-value, Hipotesis nol gagal ditolak karena nilai z tidak berada dalam daerah kritis\")\n",
    "\n",
    "    if p_value < alpha:\n",
    "        print(f\"Berdasarkan tes signifikan, Hipotesis nol ditolak karena {p_value:.3f} < 0.05\")\n",
    "    else:\n",
    "        print(\"Berdasarkan tes signifikan, Hipotesis nol gagal ditolak\")\n",
    "\n",
    "    print(\"\"\"\n",
    "    ------------------ Kesimpulan ----------------\n",
    "    rata-rata residual sugar tidak sama dengan 2.5\n",
    "    ----------------------------------------------\"\"\")\n",
    "\n",
    "    return variables\n",
    "\n",
    "problem_4b()"
   ],
   "execution_count":20,
   "outputs":[
    {
     "name":"stdout",
     "text":[
      "\n",
      "    ------------------------- Hipotesa --------------------------\n",
      "    Apakah nilai rata-rata Residual Sugar tidak sama dengan 2.50?\n",
      "    -------------------------------------------------------------\n",
      "    \n",
      "Berdasarkan z-value, Hipotesis nol ditolak karena 2.15 > 1.96 atau 2.15 < -1.96\n",
      "Berdasarkan tes signifikan, Hipotesis nol ditolak karena 0.032 < 0.05\n",
      "\n",
      "    ------------------ Kesimpulan ----------------\n",
      "    rata-rata residual sugar tidak sama dengan 2.5\n",
      "    ----------------------------------------------\n"
     ],
     "output_type":"stream"
    },
    {
     "data":{
      "text\/html":[
       "<div>\n",
       "<style scoped>\n",
       "    .dataframe tbody tr th:only-of-type {\n",
       "        vertical-align: middle;\n",
       "    }\n",
       "\n",
       "    .dataframe tbody tr th {\n",
       "        vertical-align: top;\n",
       "    }\n",
       "\n",
       "    .dataframe thead th {\n",
       "        text-align: right;\n",
       "    }\n",
       "<\/style>\n",
       "<table border=\"1\" class=\"dataframe\">\n",
       "  <thead>\n",
       "    <tr style=\"text-align: right;\">\n",
       "      <th><\/th>\n",
       "      <th>mean<\/th>\n",
       "      <th>z-alpha-low<\/th>\n",
       "      <th>z-alpha-high<\/th>\n",
       "      <th>z-score<\/th>\n",
       "      <th>p-value<\/th>\n",
       "    <\/tr>\n",
       "  <\/thead>\n",
       "  <tbody>\n",
       "    <tr>\n",
       "      <th>0<\/th>\n",
       "      <td>2.567104<\/td>\n",
       "      <td>-1.96<\/td>\n",
       "      <td>1.96<\/td>\n",
       "      <td>2.149<\/td>\n",
       "      <td>0.032<\/td>\n",
       "    <\/tr>\n",
       "  <\/tbody>\n",
       "<\/table>\n",
       "<\/div>"
      ]
     },
     "metadata":{
      
     },
     "output_type":"display_data"
    }
   ],
   "metadata":{
    "datalore":{
     "node_id":"geMRrvffmFO7xkaQ7S5pqd",
     "type":"CODE",
     "hide_input_from_viewers":false,
     "hide_output_from_viewers":false,
     "report_properties":{
      "rowId":"9fyEdzeicG8a9MUn3X01f8"
     }
    }
   }
  },
  {
   "cell_type":"markdown",
   "source":[
    "## 4c. Apakah nilai rata-rata 150 baris pertama kolom sulphates bukan 0.65?\n",
    "\n",
    "### Penyelesaian\n",
    "\n",
    "Untuk menentukan kebenaran dari hipotesa nilai rata-rata 150 baris pertama kolom Sulphates tidak sama dengan 0.65, akan ditentukan hipotesa null dan hipotesa alternatif:\n",
    "\n",
    "$$H_0 : \\bar{x} = 0.65$$\n",
    "$$H_1 : \\bar{x} \\neq 0.65$$\n",
    "\n",
    "dengan tingkat signifikansi $\\alpha = 0.05$\n",
    "\n",
    "Dengan hipotesa alternatif $H_1 : \\bar{x} \\neq 0.65$ maka didapatkan daerah kritis $$Z > Z_{\\alpha \/ 2} = Z_{0.025} = 1.96$$ atau $$Z < Z_{\\alpha \/ 2} = -Z_{0.025} = -1.96$$\n",
    "\n",
    "Dan nilai \n",
    "$$Z = -6.273$$ dan $$P(Z < -6.273) = 3.54 \\times 10^{-10}$$\n",
    "\n",
    "Sehingga, karena $Z = -6.273 < -1.96$ dan $P(Z < -6.273) = 3.54 \\times 10^{-10} < \\alpha = 0.05 $ maka Hipotesa null dapat ditolak\n",
    "\n",
    "### Kesimpulan\n",
    "\n",
    "Nilai rata-rata 150 baris pertama kolom Sulphates $\\neq$ 0.65"
   ],
   "attachments":{
    
   },
   "metadata":{
    "datalore":{
     "node_id":"dBv4tjTt2h7Ysgfyy9Bfmc",
     "type":"MD",
     "hide_input_from_viewers":true,
     "hide_output_from_viewers":false,
     "report_properties":{
      "rowId":"4czqx8Lg3BqdrGFg7euHdj"
     }
    }
   }
  },
  {
   "cell_type":"code",
   "source":[
    "def problem_4c():\n",
    "    print(\"\"\"\n",
    "    ----------------------------- Hipotesa -----------------------------\n",
    "    Apakah nilai rata-rata 150 baris pertama kolom sulphates bukan 0.65?\n",
    "    --------------------------------------------------------------------\n",
    "    \"\"\")\n",
    "\n",
    "    mean_sample = data['sulphates'][:150].mean()\n",
    "    mean_population = data['sulphates'].mean()\n",
    "\n",
    "    # Langkah 1 menentukan hipotesis nol\n",
    "    # H0 adalah rata-rata sama dengan 0.65\n",
    "\n",
    "    # Langkah 2 menentukan hipotesis alternatif\n",
    "    # H1 adalah rata-rata tidak sama dengan 0.65\n",
    "\n",
    "    target = 0.65\n",
    "\n",
    "    # Langkah 3 menentukan tingkat signifikansi alpha\n",
    "    alpha = 0.05\n",
    "\n",
    "    # Langkah 4 uji statistik dan daerah kritis\n",
    "    # Uji statistik\n",
    "    # Perhatikan bahwa jumlah sampel cukup besar dan berdistribusi normal, \n",
    "    # sehingga kita bisa menggunakan z-test. \n",
    "    # Selain itu, kita bisa membuat aproksimasi untuk nilai standar\n",
    "    # deviasi populasi.\n",
    "\n",
    "    # daerah kritis: z > z_alpha\/2 atau z < -z_alpha\/2\n",
    "    z_alpha_low = norm.ppf(alpha\/2)\n",
    "    z_alpha_high = norm.ppf(1-(alpha\/2))\n",
    "\n",
    "    # Langkah 5 hitung nilai uji statistik\n",
    "    # data sulphate keseluruhan dianggap data populasi sehingga nilai stdev dan rata-rata\n",
    "    # menggunakan data keseluruhan, bukan sampel\n",
    "    population_stdev = pstdev(data['sulphates']) # stdev populasi\n",
    "    z_score = calculate_z_score(target, population_stdev, 150, mean_population)\n",
    "    p_value = 2*norm.cdf(z_score) # two tailed\n",
    "\n",
    "    variables = pd.DataFrame()\n",
    "    variables['mean-sample'] = pd.DataFrame([round(mean_sample, 3)])\n",
    "    variables['mean-population'] = pd.DataFrame([round(mean_population, 3)])\n",
    "    variables['z-alpha-low'] = pd.DataFrame([round(z_alpha_low, 3)])\n",
    "    variables['z-alpha-high'] = pd.DataFrame([round(z_alpha_high, 3)])\n",
    "    variables['z-score'] = pd.DataFrame([round(z_score, 3)])\n",
    "    variables['p-value'] = pd.DataFrame([round(p_value, 3)])\n",
    "\n",
    "    # Langkah 6 ambil kesimpulan\n",
    "    if z_score > z_alpha_high or z_score < z_alpha_low:\n",
    "        print(f\"Berdasarkan z-value, Hipotesis nol ditolak karena {z_score:.2f} > {z_alpha_high:.2f} atau {z_score:.2f} < {z_alpha_low:.2f}\")\n",
    "    else:\n",
    "        print(\"Berdasarkan z-value, Hipotesis nol gagal ditolak karena nilai z tidak berada dalam daerah kritis\")\n",
    "\n",
    "    if p_value < alpha:\n",
    "        print(f\"Berdasarkan tes signifikan, Hipotesis nol ditolak karena {p_value} < 0.05\")\n",
    "    else:\n",
    "        print(\"Berdasarkan tes signifikan, Hipotesis nol gagal ditolak\")\n",
    "\n",
    "    print(\"\"\"\n",
    "    ---------------------- Kesimpulan -------------------\n",
    "    rata-rata sulphates pada 150 baris pertama bukan 0.65\n",
    "    -----------------------------------------------------\"\"\")\n",
    "\n",
    "    return variables\n",
    "\n",
    "problem_4c()"
   ],
   "execution_count":21,
   "outputs":[
    {
     "name":"stdout",
     "text":[
      "\n",
      "    ----------------------------- Hipotesa -----------------------------\n",
      "    Apakah nilai rata-rata 150 baris pertama kolom sulphates bukan 0.65?\n",
      "    --------------------------------------------------------------------\n",
      "    \n",
      "Berdasarkan z-value, Hipotesis nol ditolak karena -6.27 > 1.96 atau -6.27 < -1.96\n",
      "Berdasarkan tes signifikan, Hipotesis nol ditolak karena 3.54846553131317e-10 < 0.05\n",
      "\n",
      "    ---------------------- Kesimpulan -------------------\n",
      "    rata-rata sulphates pada 150 baris pertama bukan 0.65\n",
      "    -----------------------------------------------------\n"
     ],
     "output_type":"stream"
    },
    {
     "data":{
      "text\/html":[
       "<div>\n",
       "<style scoped>\n",
       "    .dataframe tbody tr th:only-of-type {\n",
       "        vertical-align: middle;\n",
       "    }\n",
       "\n",
       "    .dataframe tbody tr th {\n",
       "        vertical-align: top;\n",
       "    }\n",
       "\n",
       "    .dataframe thead th {\n",
       "        text-align: right;\n",
       "    }\n",
       "<\/style>\n",
       "<table border=\"1\" class=\"dataframe\">\n",
       "  <thead>\n",
       "    <tr style=\"text-align: right;\">\n",
       "      <th><\/th>\n",
       "      <th>mean-sample<\/th>\n",
       "      <th>mean-population<\/th>\n",
       "      <th>z-alpha-low<\/th>\n",
       "      <th>z-alpha-high<\/th>\n",
       "      <th>z-score<\/th>\n",
       "      <th>p-value<\/th>\n",
       "    <\/tr>\n",
       "  <\/thead>\n",
       "  <tbody>\n",
       "    <tr>\n",
       "      <th>0<\/th>\n",
       "      <td>0.606<\/td>\n",
       "      <td>0.598<\/td>\n",
       "      <td>-1.96<\/td>\n",
       "      <td>1.96<\/td>\n",
       "      <td>-6.273<\/td>\n",
       "      <td>0.0<\/td>\n",
       "    <\/tr>\n",
       "  <\/tbody>\n",
       "<\/table>\n",
       "<\/div>"
      ]
     },
     "metadata":{
      
     },
     "output_type":"display_data"
    }
   ],
   "metadata":{
    "datalore":{
     "node_id":"DlGeLGgG6ExFOoTg779Tna",
     "type":"CODE",
     "hide_input_from_viewers":false,
     "hide_output_from_viewers":false,
     "report_properties":{
      "rowId":"AKSg04yH4R3h7zkMyKpVC0"
     }
    }
   }
  },
  {
   "cell_type":"markdown",
   "source":[
    "## 4d. Apakah nilai rata-rata total sulfur dioxide di bawah 35?\n",
    "\n",
    "### Penyelesaian\n",
    "\n",
    "Untuk menentukan kebenaran dari hipotesa nilai rata-rata total sulfur dioxide di bawah 35, akan ditentukan hipotesa null dan hipotesa alternatif:\n",
    "\n",
    "$$H_0 : \\mu = 35$$\n",
    "$$H_1 : \\mu < 35$$\n",
    "\n",
    "dengan tingkat signifikansi $\\alpha = 0.05$\n",
    "\n",
    "Dengan hipotesa alternatif $H_1 : \\mu < 35$ maka didapatkan daerah kritis $$Z < - Z_{\\alpha} = - Z_{0.05} = -1.645$$\n",
    "\n",
    "Dan nilai \n",
    "$$Z = 16.795$$ dan $$P(Z < 16.795) = 1$$\n",
    "\n",
    "Sehingga, karena $Z = 16.795 \\nless -1.645$ dan $P(Z < 16.795) = 1 \\nless \\alpha = 0.05 $ maka Hipotesa null gagal ditolak\n",
    "\n",
    "### Kesimpulan\n",
    "\n",
    "Nilai rata-rata total sulfur dioxide tidak dapat disimpulkan di bawah 35"
   ],
   "attachments":{
    
   },
   "metadata":{
    "datalore":{
     "node_id":"jtAXBGenIzQEMoJ2z3mVSX",
     "type":"MD",
     "hide_input_from_viewers":true,
     "hide_output_from_viewers":false,
     "report_properties":{
      "rowId":"NAqymApuW5JIg4LgwpZyfb"
     }
    }
   }
  },
  {
   "cell_type":"code",
   "source":[
    "def problem_4d():\n",
    "    print(\"\"\"\n",
    "    ----------------------- Hipotesa -----------------------\n",
    "    Apakah nilai rata-rata total sulfur dioxide di bawah 35?\n",
    "    --------------------------------------------------------\n",
    "    \"\"\")\n",
    "\n",
    "    mean = data['total sulfur dioxide'].mean()\n",
    "\n",
    "    target = 35\n",
    "    # Langkah 1 Menentukan H0 : rata-rata total sulfur dioxide = 35\n",
    "    # Langkah 2 Menentukan H1 : rata-rata total sulfur dioxide < 35\n",
    "\n",
    "    # Langkah 3 menentukan tingkat signifikansi alpha\n",
    "    alpha = 0.05\n",
    "    \n",
    "    \n",
    "    # Cek Z untuk mean sample\n",
    "    # Langkah 4 uji statistik dan daerah kritis\n",
    "    # Uji statistik\n",
    "    # Perhatikan bahwa jumlah sampel cukup besar dan berdistribusi normal, \n",
    "    # sehingga kita bisa menggunakan z-test. \n",
    "    # Selain itu, kita bisa membuat aproksimasi untuk nilai standar\n",
    "    # deviasi populasi yang didekati oleh sampel yang berjumlah besar.\n",
    "    z_alpha = norm.ppf(1-alpha)\n",
    "\n",
    "    # Langkah 5 hitung nilai uji statistik\n",
    "    # data sulfur dioxide keseluruhan dianggap data populasi sehingga nilai stdev dan rata-rata\n",
    "    # menggunakan data keseluruhan, bukan sampel\n",
    "    z_score = calculate_z_score(target, pstdev(data['total sulfur dioxide']), len(data['total sulfur dioxide']), mean)\n",
    "    p_value = norm.cdf(z_score)\n",
    "\n",
    "    variables = pd.DataFrame()\n",
    "    variables['mean'] = pd.DataFrame([mean]) \n",
    "    variables['z-alpha'] = pd.DataFrame([round(z_alpha, 3)])\n",
    "    variables['z-score'] = pd.DataFrame([round(z_score, 3)])\n",
    "    variables['p-value'] = pd.DataFrame([round(p_value, 3)])\n",
    "\n",
    "    # Jika Z < - Zalpha, maka tolak H0\n",
    "    if z_score < -1 * z_alpha:\n",
    "        print(f\"Berdasarkan z-value, Hipotesis nol ditolak karena {z_score:.2f} < {z_alpha:.2f}\")\n",
    "    else:\n",
    "        print(\"Berdasarkan z-value, Hipotesis nol gagal ditolak karena nilai z tidak berada dalam daerah kritis\")\n",
    "    \n",
    "    # Tes signifikan\n",
    "    \n",
    "    # Langkah 6 ambil kesimpulan\n",
    "    if p_value < alpha:\n",
    "        print(f\"Berdasarkan tes signifikan, Hipotesis nol ditolak karena {p_value} < 0.05\")\n",
    "    else:\n",
    "        print(\"Berdasarkan tes signifikan, Hipotesis nol gagal ditolak\")\n",
    "\n",
    "    print(\"\"\"\n",
    "    ---------------------------- Kesimpulan -------------------------\n",
    "    rata-rata total sulfur dioxide tidak bisa disimpulkan di bawah 35\n",
    "    -----------------------------------------------------------------\"\"\")\n",
    "\n",
    "    return variables\n",
    "problem_4d()"
   ],
   "execution_count":22,
   "outputs":[
    {
     "name":"stdout",
     "text":[
      "\n",
      "    ----------------------- Hipotesa -----------------------\n",
      "    Apakah nilai rata-rata total sulfur dioxide di bawah 35?\n",
      "    --------------------------------------------------------\n",
      "    \n",
      "Berdasarkan z-value, Hipotesis nol gagal ditolak karena nilai z tidak berada dalam daerah kritis\n",
      "Berdasarkan tes signifikan, Hipotesis nol gagal ditolak\n",
      "\n",
      "    ---------------------------- Kesimpulan -------------------------\n",
      "    rata-rata total sulfur dioxide tidak bisa disimpulkan di bawah 35\n",
      "    -----------------------------------------------------------------\n"
     ],
     "output_type":"stream"
    },
    {
     "data":{
      "text\/html":[
       "<div>\n",
       "<style scoped>\n",
       "    .dataframe tbody tr th:only-of-type {\n",
       "        vertical-align: middle;\n",
       "    }\n",
       "\n",
       "    .dataframe tbody tr th {\n",
       "        vertical-align: top;\n",
       "    }\n",
       "\n",
       "    .dataframe thead th {\n",
       "        text-align: right;\n",
       "    }\n",
       "<\/style>\n",
       "<table border=\"1\" class=\"dataframe\">\n",
       "  <thead>\n",
       "    <tr style=\"text-align: right;\">\n",
       "      <th><\/th>\n",
       "      <th>mean<\/th>\n",
       "      <th>z-alpha<\/th>\n",
       "      <th>z-score<\/th>\n",
       "      <th>p-value<\/th>\n",
       "    <\/tr>\n",
       "  <\/thead>\n",
       "  <tbody>\n",
       "    <tr>\n",
       "      <th>0<\/th>\n",
       "      <td>40.29015<\/td>\n",
       "      <td>1.645<\/td>\n",
       "      <td>16.795<\/td>\n",
       "      <td>1.0<\/td>\n",
       "    <\/tr>\n",
       "  <\/tbody>\n",
       "<\/table>\n",
       "<\/div>"
      ]
     },
     "metadata":{
      
     },
     "output_type":"display_data"
    }
   ],
   "metadata":{
    "datalore":{
     "node_id":"VWu1Gf22NO8zVFtrSvSblU",
     "type":"CODE",
     "hide_input_from_viewers":false,
     "hide_output_from_viewers":false,
     "report_properties":{
      "rowId":"t5I6c5sB0epzliLjgI8EVH"
     }
    }
   }
  },
  {
   "cell_type":"markdown",
   "source":[
    "## 4e. Apakah proporsi nilai total Sulfur Dioxide yang lebih dari 40, adalah tidak sama dengan 50%?\n",
    "\n",
    "### Penyelesaian\n",
    "\n",
    "Untuk menentukan kebenaran dari hipotesa nilai proporsi nilai total Sulfat Dioxide yang lebih dari 40, adalah tidak sama dengan 50%, akan ditentukan hipotesa null dan hipotesa alternatif:\n",
    "\n",
    "$$H_0 : p = 0.5$$\n",
    "$$H_1 : p \\neq 0.5$$\n",
    "\n",
    "dengan tingkat signifikansi $\\alpha = 0.05$\n",
    "\n",
    "Didapatkan daerah kritis \n",
    "$$Z > Z_{\\alpha \/ 2} = Z_{0.025} = 1.96$$ atau $$Z < Z_{\\alpha \/ 2} = -Z_{0.025} = -1.96$$\n",
    "\n",
    "dari Sampel, ditemukan bahwa jumlah nilai total sulfur dioxide yang berada diatas 40 adalah 512\n",
    "\n",
    "Dengan tes statistik:\n",
    "\n",
    "$$\n",
    "\\begin{aligned}\n",
    "Z   &= \\frac{\\bar{x} - \\mu}{\\sigma} \\\\\n",
    "    &= \\frac{\\bar{x} - np}{\\sqrt{npq}} \\\\\n",
    "    &= \\frac{512 - 1000 \\times 0.5}{\\sqrt{1000 \\times 0.5 \\times 0.5}} \\\\\n",
    "    &= \\frac{12}{15.811} = 0.759\n",
    "\n",
    "\\end{aligned}\n",
    "$$\n",
    "dan\n",
    "$$\n",
    "\\begin{aligned}\n",
    "P   & = 2 \\times P(X > 512, p = 0.5) \\\\\n",
    "    & = 2 \\times (1 - P(X \\leq 512, p = 0.5)) \\\\\n",
    "    & = 2 \\times (1 - \\sum_{0}^{512} b(x; 1000; 0.5) \\\\\n",
    "    & = 2 \\times (1 - 0.7854) \\\\\n",
    "    & = 2 \\times 0.2146 = 0.4292\n",
    "\\end{aligned}\n",
    "$$\n",
    "sama dengan \n",
    "$$\n",
    "\\begin{aligned}\n",
    "P   &= 2 \\times P(Z > 0.759)\\\\\n",
    "    &= 2 \\times (1 - P(Z \\leq 0.759))\\\\\n",
    "    &= 2 \\times (1 - 0.776073)\\\\\n",
    "    &= 2 \\times 0.223927 = 0.447854\n",
    "\\end{aligned}\n",
    "$$\n",
    "\n",
    "Sehingga, karena $Z = 0.759 \\nless -1.96$ dan $Z = 0.759 \\ngtr 1.96$ dan $P \\approx 0.43 \\nless \\alpha = 0.05 $ maka Hipotesa null gagal ditolak\n",
    "\n",
    "### Kesimpulan\n",
    "\n",
    "Proporsi nilai total sulfur dioxide yang yang lebih dari 40 sama dengan 50%"
   ],
   "attachments":{
    
   },
   "metadata":{
    "datalore":{
     "node_id":"YooCMb0mHkJJXDwEUjtR8q",
     "type":"MD",
     "hide_input_from_viewers":true,
     "hide_output_from_viewers":false,
     "report_properties":{
      "rowId":"2YMhyUe3AVimkTiN5V4jYh"
     }
    }
   }
  },
  {
   "cell_type":"code",
   "source":[
    "# Bagian 4e\n",
    "import scipy\n",
    "def b(x, n, p):\n",
    "    return scipy.special.comb(n, x) * p**x * (1-p)**(n-x)\n",
    "\n",
    "def problem_4e():\n",
    "    print(\"\"\"\n",
    "    ----------------------------------------- Hipotesa -----------------------------------------\n",
    "    Apakah proporsi nilai total Sulfur Dioxide yang lebih dari 40, adalah tidak sama dengan 50%?\n",
    "    --------------------------------------------------------------------------------------------\n",
    "    \"\"\")\n",
    "\n",
    "    target = 40\n",
    "    \n",
    "    # Langkah 1 Menentukan H0 : proporsi nilai total sulfur dioxide yang lebih dari 40 = 0.5\n",
    "    # Langkah 2 Menentukan H1 : proporsi nilai total sulfur dioxide yang lebih dari 40 != 0.5\n",
    "\n",
    "    # Langkah 3 Menentukan tingkat signifikansi alpha\n",
    "    alpha = 0.05\n",
    "\n",
    "    # Jumlah nilai yang berada di > 40\n",
    "    total_value_above_40 = len(data.loc[data['total sulfur dioxide'] > target, 'total sulfur dioxide'])\n",
    "    \n",
    "    # Langkah 4 uji statistik dan daerah kritis\n",
    "    # Uji statistik\n",
    "    # Perhatikan bahwa jumlah sampel cukup besar dan berdistribusi normal, \n",
    "    # sehingga kita bisa menggunakan z-test. \n",
    "    # Selain itu, kita bisa membuat aproksimasi untuk nilai standar\n",
    "    # deviasi populasi.\n",
    "\n",
    "    # daerah kritis: z > z_alpha\/2 atau z < -z_alpha\/2\n",
    "    z_alpha_low = norm.ppf(alpha\/2)\n",
    "    z_alpha_high = norm.ppf(1-(alpha\/2))\n",
    "\n",
    "    # Langkah 5 hitung nilai uji statistik\n",
    "    # Untuk Z score\n",
    "    n = 1000\n",
    "    p = 0.5\n",
    "    q = 1 - p\n",
    "    z_score = (total_value_above_40 - n*p) \/ np.sqrt(n*p*q)\n",
    "    p_value_z = 2*(1-norm.cdf(z_score)) # two tailed\n",
    "\n",
    "    sum_b = 0\n",
    "    for i in range(1, 513):\n",
    "        sum_b += b(i, n, p)\n",
    "\n",
    "    p_value_b = 2 * (1-sum_b)\n",
    "\n",
    "    avg_p_value = (p_value_z + p_value_b)\/2\n",
    "\n",
    "    variables = pd.DataFrame()\n",
    "    variables['total-value-above-40'] = pd.DataFrame([total_value_above_40]) \n",
    "    variables['z-alpha-low'] = pd.DataFrame([round(z_alpha_low, 3)])\n",
    "    variables['z-alpha-high'] = pd.DataFrame([round(z_alpha_high, 3)])\n",
    "    variables['z-score'] = pd.DataFrame([round(z_score, 3)])\n",
    "    variables['p-value-z'] = pd.DataFrame([round(p_value_z, 3)])\n",
    "    variables['p-value-b'] = pd.DataFrame([round(p_value_b, 3)])\n",
    "    variables['avg-p-value'] = pd.DataFrame([round(avg_p_value, 3)])\n",
    "\n",
    "\n",
    "    # Langkah 6 ambil kesimpulan\n",
    "    if z_score > z_alpha_high or z_score < z_alpha_low:\n",
    "        print(f\"Berdasarkan z-value, Hipotesis nol ditolak karena {z_score:.2f} > {z_alpha_high:.2f} atau {z_score:.2f} < {z_alpha_low:.2f}\")\n",
    "    else:\n",
    "        print(\"Berdasarkan z-value, Hipotesis nol gagal ditolak karena nilai z tidak berada dalam daerah kritis\")\n",
    "\n",
    "    if avg_p_value < alpha:\n",
    "        print(f\"Berdasarkan tes signifikan, Hipotesis nol ditolak karena {avg_p_value} < 0.05\")\n",
    "    else:\n",
    "        print(\"Berdasarkan tes signifikan, Hipotesis nol gagal ditolak\")\n",
    "\n",
    "    print(\"\"\"\n",
    "    --------------------------------- Kesimpulan ------------------------------\n",
    "    Proporsi nilai total sulfur dioxide yang yang lebih dari 40 sama dengan 50%\n",
    "    ---------------------------------------------------------------------------\"\"\")\n",
    "\n",
    "    return variables\n",
    "\n",
    "problem_4e()"
   ],
   "execution_count":23,
   "outputs":[
    {
     "name":"stdout",
     "text":[
      "\n",
      "    ----------------------------------------- Hipotesa -----------------------------------------\n",
      "    Apakah proporsi nilai total Sulfur Dioxide yang lebih dari 40, adalah tidak sama dengan 50%?\n",
      "    --------------------------------------------------------------------------------------------\n",
      "    \n",
      "Berdasarkan z-value, Hipotesis nol gagal ditolak karena nilai z tidak berada dalam daerah kritis\n",
      "Berdasarkan tes signifikan, Hipotesis nol gagal ditolak\n",
      "\n",
      "    --------------------------------- Kesimpulan ------------------------------\n",
      "    Proporsi nilai total sulfur dioxide yang yang lebih dari 40 sama dengan 50%\n",
      "    ---------------------------------------------------------------------------\n"
     ],
     "output_type":"stream"
    },
    {
     "data":{
      "text\/html":[
       "<div>\n",
       "<style scoped>\n",
       "    .dataframe tbody tr th:only-of-type {\n",
       "        vertical-align: middle;\n",
       "    }\n",
       "\n",
       "    .dataframe tbody tr th {\n",
       "        vertical-align: top;\n",
       "    }\n",
       "\n",
       "    .dataframe thead th {\n",
       "        text-align: right;\n",
       "    }\n",
       "<\/style>\n",
       "<table border=\"1\" class=\"dataframe\">\n",
       "  <thead>\n",
       "    <tr style=\"text-align: right;\">\n",
       "      <th><\/th>\n",
       "      <th>total-value-above-40<\/th>\n",
       "      <th>z-alpha-low<\/th>\n",
       "      <th>z-alpha-high<\/th>\n",
       "      <th>z-score<\/th>\n",
       "      <th>p-value-z<\/th>\n",
       "      <th>p-value-b<\/th>\n",
       "      <th>avg-p-value<\/th>\n",
       "    <\/tr>\n",
       "  <\/thead>\n",
       "  <tbody>\n",
       "    <tr>\n",
       "      <th>0<\/th>\n",
       "      <td>512<\/td>\n",
       "      <td>-1.96<\/td>\n",
       "      <td>1.96<\/td>\n",
       "      <td>0.759<\/td>\n",
       "      <td>0.448<\/td>\n",
       "      <td>0.429<\/td>\n",
       "      <td>0.439<\/td>\n",
       "    <\/tr>\n",
       "  <\/tbody>\n",
       "<\/table>\n",
       "<\/div>"
      ]
     },
     "metadata":{
      
     },
     "output_type":"display_data"
    }
   ],
   "metadata":{
    "datalore":{
     "node_id":"TjUbqmCev7JqXCqwcmQoJq",
     "type":"CODE",
     "hide_input_from_viewers":false,
     "hide_output_from_viewers":false,
     "report_properties":{
      "rowId":"c0fEJ5NcwohYvAx1VpR76l"
     }
    }
   }
  },
  {
   "cell_type":"markdown",
   "source":[
    "## 5. Melakukan test hipotesis 2 sampel\n",
    "- a. Data kolom fixed acidity dibagi 2 sama rata: bagian awal dan bagian akhir kolom. Benarkah rata-rata kedua bagian tersebut sama?\n",
    "- b. Data kolom chlorides dibagi 2 sama rata: bagian awal dan bagian akhir kolom. Benarkah rata-rata bagian awal lebih besar daripada bagian akhir sebesar 0.001?\n",
    "- c. Benarkah rata-rata sampel 25 baris pertama kolom Volatile Acidity sama dengan rata-rata 25 baris pertama kolom Sulphates ?\n",
    "- d. Bagian awal kolom residual sugar memiliki variansi yang sama dengan bagian akhirnya?\n",
    "- e. Proporsi nilai setengah bagian awal alcohol yang lebih dari 7, adalah lebih besar daripada, proporsi nilai yang sama di setengah bagian akhir alcohol?"
   ],
   "attachments":{
    
   },
   "metadata":{
    "datalore":{
     "node_id":"ZuBC3FvG0LA2k7rzNMJ5iI",
     "type":"MD",
     "hide_input_from_viewers":false,
     "hide_output_from_viewers":false,
     "report_properties":{
      "rowId":"kQMRYP112UOpboZY14KX3f"
     }
    }
   }
  },
  {
   "cell_type":"markdown",
   "source":[
    "## Fungsi untuk menghitung t-score\n",
    "\n",
    "Akan digunakan sebuah fungsi yang mengandung rumus:\n",
    "$$\n",
    "\\begin{aligned}\n",
    "t   & = \\frac{(\\bar{x_1} - \\bar{x_2}) - d_0}{s_p\\sqrt{1\/n_1 + 1\/n_2}} \\\\\n",
    "\\end{aligned}\n",
    "$$\n",
    "$$\n",
    "\\begin{aligned}\n",
    "s^2_p   & = \\frac{(n_1 - 1)s^2_1 + (n_2-1)s^2_2}{n_1 + n_2 -2} \\\\\n",
    "\\end{aligned}\n",
    "$$\n",
    "\n",
    "$$\n",
    "\\begin{aligned}\n",
    "t'  & = \\frac{(\\bar{x}_1 - \\bar{x}_2) - d_0}{\\sqrt{s^2_1\/n_1 + s^2_2\/n_2}} \\\\\n",
    "\\end{aligned}\n",
    "$$\n",
    "\n",
    "$$\n",
    "\\begin{aligned}\n",
    "    f   & = \\frac{s^2_1}{s^2_2} \\\\\n",
    "\\end{aligned}\n",
    "$$\n",
    "\n",
    "$$\n",
    "\\begin{aligned}\n",
    "Z   &= \\frac{\\hat{p_1} - \\hat{p_2}}{\\hat{p} \\hat{q} (\\frac{1}{n_1} + \\frac{1}{n_2})} \\\\\n",
    "\\end{aligned}\n",
    "$$"
   ],
   "attachments":{
    
   },
   "metadata":{
    "datalore":{
     "node_id":"jFfI6gy7JI4srYHWiKJr7O",
     "type":"MD",
     "hide_input_from_viewers":true,
     "hide_output_from_viewers":false,
     "report_properties":{
      "rowId":"6zXDXelU80jRAgisxXNp7z"
     }
    }
   }
  },
  {
   "cell_type":"code",
   "source":[
    "from scipy.stats import t\n",
    "from scipy.stats import f\n",
    "\n",
    "def calculate_t_score(x1bar:float, x2bar:float, d0:float, sp, n1, n2):\n",
    "    return ((x1bar - x2bar) - d0)\/(sp * np.sqrt(1\/n1 + 1\/n2))\n",
    "\n",
    "def calculate_spsquared(n1, s12, n2, s22):\n",
    "    return ((n1-1) *s12 + (n2-1) *s22)\/(n1+n2-2)\n",
    "\n",
    "def calculate_taccent_score(x1bar, x2bar, d0, s1, n1, s2, n2):\n",
    "    return ((x1bar - x2bar) - d0)\/(np.sqrt(s1**2\/n1 + s2**2\/n2))\n",
    "\n",
    "def calculate_f_score(s12, s22):\n",
    "    return s12\/s22\n",
    "\n",
    "def calculate_z_score_proportions(p1, p2, p, n1, n2):\n",
    "    return (p1 - p2)\/(p * (1-p) * (1\/n1 + 1\/n2))"
   ],
   "execution_count":24,
   "outputs":[
    
   ],
   "metadata":{
    "datalore":{
     "node_id":"1mSkreq1DALXt18GDF4pnc",
     "type":"CODE",
     "hide_input_from_viewers":false,
     "hide_output_from_viewers":true,
     "report_properties":{
      "rowId":"XAJxKSxKGlladNTjA5v2bi"
     }
    }
   }
  },
  {
   "cell_type":"markdown",
   "source":[
    "## 5a. Data kolom fixed acidity dibagi 2 sama rata: bagian awal dan bagian akhir kolom. Benarkah rata-rata kedua bagian tersebut sama?\n",
    "### Penyelesaian\n",
    "\n",
    "Untuk menentukan kebenaran dari hipotesa rata-rata kedua bagian sama, akan ditentukan hipotesa null dan hipotesa alternatif:\n",
    "\n",
    "$$H_0 : \\mu_1 - \\mu_2 = 0$$\n",
    "$$H_1 : \\mu_1 - \\mu_2 \\neq 0$$\n",
    "\n",
    "dengan tingkat signifikansi $\\alpha = 0.05$\n",
    "\n",
    "Didapatkan hasil pengolahan data:\n",
    "$$\n",
    "\\begin{aligned}\n",
    "\\bar{x}_1 &= 7.15351 &\n",
    "s_1 &= 1.20494\n",
    "\\end{aligned}\n",
    "$$\n",
    "$$\n",
    "\\begin{aligned}\n",
    "\\bar{x}_2 &= 7.15154 &\n",
    "s_2 &= 1.19945\n",
    "\\end{aligned}\n",
    "$$\n",
    "\n",
    "Karena keduanya berasal dari populasi data yang sama, maka variansi populasi keduanya akan sama, tetapi tidak diketahui\n",
    "$$ \\sigma_1^2 = \\sigma_2^2 = \\sigma^2 $$\n",
    "\n",
    "Dari kedua sampel, akan didapat derajat kebebasan $v$\n",
    "$$\n",
    "\\begin{aligned}\n",
    "v   &= n_1 + n_2 - 2\\\\\n",
    "    &= 500 + 500 -2 \\\\\n",
    "    &= 998\n",
    "\\end{aligned} \n",
    "$$\n",
    "\n",
    "Akan didapatkan daerah kritis:\n",
    "\n",
    "$$t < -t_{\\alpha\/2} \\cup t > t_{\\alpha\/2}$$\n",
    "$$t < -t_{0.025} \\cup t > t_{0.025}$$\n",
    "$$t < -1.962 \\cup t > 1.962$$\n",
    "\n",
    "Untuk pencarian nilai $t$, akan dihitung terlebih dahulu nilai *pooling estimator* $s_p^2$\n",
    "\n",
    "\n",
    "$$\n",
    "\\begin{aligned}\n",
    "s^2_p   & = \\frac{(n_1 - 1)s^2_1 + (n_2-1)s^2_2}{n_1 + n_2 -2} \\\\\n",
    "        & = \\frac{(499)\\times 1.452 + (499) \\times 1.438}{998} \\\\\n",
    "        & = 1.445\n",
    "\\end{aligned}\n",
    "$$\n",
    "\n",
    "Sehingga bisa dihitung untuk nilai $t$\n",
    "\n",
    "$$\n",
    "\\begin{aligned}\n",
    "t   & = \\frac{(\\bar{x_1} - \\bar{x_2}) - d_0}{s_p\\sqrt{1\/n_1 + 1\/n_2}} \\\\\n",
    "    & = \\frac{(7.153 - 7.151) - 0}{\\sqrt{1.445} \\sqrt{1\/500 + 1\/500}} \\\\\n",
    "    & = 0.0263\n",
    "\\end{aligned}\n",
    "$$\n",
    "\n",
    "dan\n",
    "$$\n",
    "\\begin{aligned}\n",
    "P   & = P(T > 0.0263 \\cap T < -0.0263) \\\\\n",
    "    & = 2 \\times P(T < -0.0263) \\\\\n",
    "    & = 0.979\n",
    "\\end{aligned}\n",
    "$$\n",
    "\n",
    "\n",
    "Sehingga, karena $t = 0.0263 \\nless -1.962$ dan $t = 0.0263 \\ngtr 1.96$ dan $P = 0.979 \\nless \\alpha = 0.05 $ maka Hipotesa null gagal ditolak\n",
    "\n",
    "### Kesimpulan\n",
    "\n",
    "Rata-rata kedua bagian berbeda"
   ],
   "attachments":{
    
   },
   "metadata":{
    "datalore":{
     "node_id":"uy5MjsnQc8ScKV0al0Uij9",
     "type":"MD",
     "hide_input_from_viewers":true,
     "hide_output_from_viewers":false,
     "report_properties":{
      "rowId":"IEsJzqmb903GNyHtN9nlis"
     }
    }
   }
  },
  {
   "cell_type":"code",
   "source":[
    "# Bagian 5a\n",
    "# Bila data kolom fixed acidity dibagi 2 sama rata, apakah rata-rata kedua bagian tersebut sama?\n",
    "\n",
    "def problem_5a():\n",
    "    print(\"\"\"\n",
    "    ------------------------------------------ Hipotesa ------------------------------------------\n",
    "    Bila data kolom fixed acidity dibagi 2 sama rata, apakah rata-rata kedua bagian tersebut sama?\n",
    "    ----------------------------------------------------------------------------------------------\n",
    "    \"\"\")\n",
    "\n",
    "    length_offset = int(len(data['fixed acidity']) \/ 2)\n",
    "    data_1 = data['fixed acidity'][:length_offset]\n",
    "    data_2 = data['fixed acidity'][length_offset:]\n",
    "    mean_1 = round(data_1.mean(), 3)\n",
    "    mean_2 = round(data_2.mean(), 3)\n",
    "    std_1 = round(data_1.std(), 3)\n",
    "    std_2 = round(data_2.std(), 3)\n",
    "\n",
    "    degree_freedom = len(data_1) + len(data_2) - 2\n",
    "\n",
    "    # Langkah 1 menentukan hipotesis nol\n",
    "    # H0 adalah rata-rata bagian pertama - rata-rata bagian kedua = 0\n",
    "\n",
    "    # Langkah 2 menentukan hipotesis alternatif\n",
    "    # H1 adalah rata-rata bagian pertama - rata-rata bagian kedua tidak sama dengan nol\n",
    "\n",
    "    difference = 0\n",
    "\n",
    "    # Langkah 3 menentukan tingkat signifikansi alpha\n",
    "    alpha = 0.05\n",
    "\n",
    "    # Langkah 4 uji statistik dan daerah kritis\n",
    "    # Uji statistik\n",
    "    # daerah kritis: t > t_alpha\/2 atau t < -t_alpha\/2\n",
    "\n",
    "    critical_region_low = -t.ppf(0.975, degree_freedom)\n",
    "    critical_region_high = t.ppf(0.975, degree_freedom)\n",
    "\n",
    "    spsquared = calculate_spsquared(len(data_1), std_1**2, len(data_2), std_2**2)\n",
    "\n",
    "    t_score = round(calculate_t_score(mean_1, mean_2, difference, np.sqrt(spsquared), len(data_1), len(data_2)), 4)\n",
    "    \n",
    "    p_value = 2 * t.cdf(-t_score, degree_freedom)\n",
    "\n",
    "    # Langkah 5 hitung nilai uji statistik\n",
    "\n",
    "    # p_value = 2*norm.cdf(z_score if z_score < 0 else z_score * -1)\n",
    "\n",
    "    # print(f\"Nilai p-value {p_value}\")\n",
    "\n",
    "    variables = pd.DataFrame()\n",
    "    variables['mean-1'] = pd.DataFrame([mean_1]) \n",
    "    variables['mean-2'] = pd.DataFrame([mean_2])\n",
    "    variables['std-1'] = pd.DataFrame([std_1])\n",
    "    variables['std-2'] = pd.DataFrame([std_2])\n",
    "    variables['degree-freedom'] = pd.DataFrame([degree_freedom])\n",
    "    variables['critical-region-low'] = pd.DataFrame([round(critical_region_low, 3)])\n",
    "    variables['critical-region-high'] = pd.DataFrame([round(critical_region_high, 3)])\n",
    "    variables['sp^2'] = pd.DataFrame([round(spsquared, 3)])\n",
    "    variables['t-score'] = pd.DataFrame([t_score])\n",
    "    variables['p-value'] = pd.DataFrame([round(p_value, 3)])\n",
    "\n",
    "\n",
    "    # Langkah 6 ambil kesimpulan\n",
    "    if t_score > critical_region_high or t_score < critical_region_low:\n",
    "        print(\"Berdasarkan t-value, Hipotesis nol ditolak\")\n",
    "    else:\n",
    "        print(\"Berdasarkan t-value, Hipotesis nol gagal ditolak\")\n",
    "\n",
    "    if p_value < alpha:\n",
    "        print(\"Berdasarkan tes signifikan, Hipotesis nol ditolak\")\n",
    "    else:\n",
    "        print(\"Berdasarkan tes signifikan, Hipotesis nol gagal ditolak\")\n",
    "\n",
    "    print(\"\"\"\n",
    "    ----------------- Kesimpulan ---------------\n",
    "    rata-rata kedua bagian fixed acidity berbeda\n",
    "    --------------------------------------------\"\"\")\n",
    "    return variables\n",
    "\n",
    "problem_5a()"
   ],
   "execution_count":25,
   "outputs":[
    {
     "name":"stdout",
     "text":[
      "\n",
      "    ------------------------------------------ Hipotesa ------------------------------------------\n",
      "    Bila data kolom fixed acidity dibagi 2 sama rata, apakah rata-rata kedua bagian tersebut sama?\n",
      "    ----------------------------------------------------------------------------------------------\n",
      "    \n",
      "Berdasarkan t-value, Hipotesis nol gagal ditolak\n",
      "Berdasarkan tes signifikan, Hipotesis nol gagal ditolak\n",
      "\n",
      "    ----------------- Kesimpulan ---------------\n",
      "    rata-rata kedua bagian fixed acidity berbeda\n",
      "    --------------------------------------------\n"
     ],
     "output_type":"stream"
    },
    {
     "data":{
      "text\/html":[
       "<div>\n",
       "<style scoped>\n",
       "    .dataframe tbody tr th:only-of-type {\n",
       "        vertical-align: middle;\n",
       "    }\n",
       "\n",
       "    .dataframe tbody tr th {\n",
       "        vertical-align: top;\n",
       "    }\n",
       "\n",
       "    .dataframe thead th {\n",
       "        text-align: right;\n",
       "    }\n",
       "<\/style>\n",
       "<table border=\"1\" class=\"dataframe\">\n",
       "  <thead>\n",
       "    <tr style=\"text-align: right;\">\n",
       "      <th><\/th>\n",
       "      <th>mean-1<\/th>\n",
       "      <th>mean-2<\/th>\n",
       "      <th>std-1<\/th>\n",
       "      <th>std-2<\/th>\n",
       "      <th>degree-freedom<\/th>\n",
       "      <th>critical-region-low<\/th>\n",
       "      <th>critical-region-high<\/th>\n",
       "      <th>sp^2<\/th>\n",
       "      <th>t-score<\/th>\n",
       "      <th>p-value<\/th>\n",
       "    <\/tr>\n",
       "  <\/thead>\n",
       "  <tbody>\n",
       "    <tr>\n",
       "      <th>0<\/th>\n",
       "      <td>7.154<\/td>\n",
       "      <td>7.152<\/td>\n",
       "      <td>1.205<\/td>\n",
       "      <td>1.199<\/td>\n",
       "      <td>998<\/td>\n",
       "      <td>-1.962<\/td>\n",
       "      <td>1.962<\/td>\n",
       "      <td>1.445<\/td>\n",
       "      <td>0.0263<\/td>\n",
       "      <td>0.979<\/td>\n",
       "    <\/tr>\n",
       "  <\/tbody>\n",
       "<\/table>\n",
       "<\/div>"
      ]
     },
     "metadata":{
      
     },
     "output_type":"display_data"
    }
   ],
   "metadata":{
    "datalore":{
     "node_id":"HGKV69OWGDMeppooXpWre1",
     "type":"CODE",
     "hide_input_from_viewers":false,
     "hide_output_from_viewers":false,
     "report_properties":{
      "rowId":"PmzkhsoMymQigRtOwOzMtq"
     }
    }
   }
  },
  {
   "cell_type":"markdown",
   "source":[
    "## 5b. Bila kolom chlorides dibagi 2 sama rata, apakah rata-rata bagian awal lebih besar daripada bagian akhir sebesar 0.001?\n",
    "### Penyelesaian\n",
    "\n",
    "Untuk menentukan kebenaran dari hipotesa rata-rata bagian pertama > bagian akhir sebesar 0.001, akan ditentukan hipotesa null dan hipotesa alternatif:\n",
    "\n",
    "$$H_0 : \\mu_1 - \\mu_2 = 0.001$$\n",
    "$$H_1 : \\mu_1 - \\mu_2 \\neq   0.001$$\n",
    "\n",
    "dengan tingkat signifikansi $\\alpha = 0.05$\n",
    "\n",
    "Didapatkan hasil pengolahan data:\n",
    "$$\n",
    "\\begin{aligned}\n",
    "\\bar{x}_1 &= 0.08140 &\n",
    "s_1 &= 0.02017\n",
    "\\end{aligned}\n",
    "$$\n",
    "$$\n",
    "\\begin{aligned}\n",
    "\\bar{x}_2 &= 0.08099 &\n",
    "s_2 &= 0.02007\n",
    "\\end{aligned}\n",
    "$$\n",
    "\n",
    "Karena keduanya berasal dari populasi data yang sama, maka variansi populasi keduanya akan sama, tetapi tidak diketahui\n",
    "$$ \\sigma_1^2 = \\sigma_2^2 = \\sigma^2 $$\n",
    "\n",
    "Dari kedua sampel, akan didapat derajat kebebasan $v$\n",
    "$$\n",
    "\\begin{aligned}\n",
    "v   &= n_1 + n_2 - 2\\\\\n",
    "    &= 500 + 500 -2 \\\\\n",
    "    &= 998\n",
    "\\end{aligned} \n",
    "$$\n",
    "\n",
    "Akan didapatkan daerah kritis:\n",
    "\n",
    "$$t < -t_{\\alpha\/2} \\cup t > t_{\\alpha\/2}$$\n",
    "$$t < -t_{0.025} \\cup t > t_{0.025}$$\n",
    "$$t < -1.962 \\cup t > 1.962$$\n",
    "\n",
    "Untuk pencarian nilai $t$, akan dihitung terlebih dahulu nilai *pooling estimator* $s_p^2$\n",
    "\n",
    "\n",
    "$$\n",
    "\\begin{aligned}\n",
    "s^2_p   & = \\frac{(n_1 - 1)s^2_1 + (n_2-1)s^2_2}{n_1 + n_2 -2} \\\\\n",
    "        & = \\frac{(499)\\times 0.0004068 + (499) \\times 0.0004028}{998} \\\\\n",
    "        & = 0.0004048\n",
    "\\end{aligned}\n",
    "$$\n",
    "\n",
    "Sehingga bisa dihitung untuk nilai $t$\n",
    "\n",
    "$$\n",
    "\\begin{aligned}\n",
    "t   & = \\frac{(\\bar{x_1} - \\bar{x_2}) - d_0}{s_p\\sqrt{1\/n_1 + 1\/n_2}} \\\\\n",
    "    & = \\frac{(0.08140 - 0.08099) - 0.001}{\\sqrt{0.0004048} \\sqrt{1\/500 + 1\/500}} \\\\\n",
    "    & = -0.464\n",
    "\\end{aligned}\n",
    "$$\n",
    "\n",
    "dan\n",
    "$$\n",
    "\\begin{aligned}\n",
    "P   & = P(T > 0.464 \\cap T < -0.464) \\\\\n",
    "    & = 2 \\times P(T < -0.464) \\\\\n",
    "    & = 0.643\n",
    "\\end{aligned}\n",
    "$$\n",
    "\n",
    "\n",
    "Sehingga, karena $t = -0.464 \\nless -1.962$ dan $t = -0.464 \\ngtr 1.96$ dan $P = 0.643 \\nless \\alpha = 0.05 $ maka Hipotesa null gagal ditolak\n",
    "\n",
    "### Kesimpulan\n",
    "\n",
    "Rata-rata bagian pertama lebih besar dari bagian kedua sebesar 0.001"
   ],
   "attachments":{
    
   },
   "metadata":{
    "datalore":{
     "node_id":"BuzoRcv3laDp8ScxRATjNG",
     "type":"MD",
     "hide_input_from_viewers":true,
     "hide_output_from_viewers":false,
     "report_properties":{
      "rowId":"Sb99rZY2LqLvrSlNSjXeTq"
     }
    }
   }
  },
  {
   "cell_type":"code",
   "source":[
    "# Bagian 5b\n",
    "# Bila kolom chlorides dibagi 2 sama rata, apakah rata-rata bagian awal lebih besar daripada bagian akhir sebesar 0.001?\n",
    "\n",
    "def problem_5b():\n",
    "    print(\"\"\"\n",
    "    -------------------------------------------------------- Hipotesa ----------------------------------------------------\n",
    "    Bila kolom chlorides dibagi 2 sama rata, apakah rata-rata bagian awal lebih besar daripada bagian akhir sebesar 0.001?\n",
    "    ----------------------------------------------------------------------------------------------------------------------\n",
    "    \"\"\")\n",
    "    length_offset = int(len(data['chlorides']) \/ 2)\n",
    "    data_1 = data['chlorides'][:length_offset]\n",
    "    data_2 = data['chlorides'][length_offset:]\n",
    "    mean_1 = round(data_1.mean(), 5)\n",
    "    mean_2 = round(data_2.mean(), 5)\n",
    "    std_1 = round(data_1.std(), 5)\n",
    "    std_2 = round(data_2.std(), 5)\n",
    "\n",
    "    # print(f\"Nilai rata-rata potongan sampel bagian pertama {mean_lower}\")\n",
    "    # print(f\"Nilai rata-rata potongan sampel bagian kedua {mean_upper}\")\n",
    "\n",
    "    degree_freedom = len(data_1) + len(data_2) - 2\n",
    "\n",
    "    # Langkah 1 menentukan hipotesis nol\n",
    "    # H0 adalah rata-rata bagian pertama - rata-rata bagian kedua = 0.001\n",
    "\n",
    "    # Langkah 2 menentukan hipotesis alternatif\n",
    "    # H1 adalah rata-rata bagian pertama - rata-rata bagian kedua != 0.001\n",
    "\n",
    "    difference = 0.001\n",
    "\n",
    "    # Langkah 3 menentukan tingkat signifikansi alpha\n",
    "    alpha = 0.05\n",
    "\n",
    "    # Langkah 4 uji statistik dan daerah kritis\n",
    "    # Uji statistik\n",
    "    # daerah kritis: t > t_alpha\/2 dan t < -t_alpha\/2\n",
    "\n",
    "    mean_difference = mean_1 - mean_2\n",
    "    critical_region_low = -t.ppf(0.975, degree_freedom)\n",
    "    critical_region_high = t.ppf(0.975, degree_freedom)\n",
    "    spsquared = calculate_spsquared(len(data_1), std_1**2, len(data_2), std_2**2)\n",
    "\n",
    "    # Langkah 5 hitung nilai uji statistik\n",
    "    t_score = round(calculate_t_score(mean_1, mean_2, difference, np.sqrt(spsquared), len(data_1), len(data_2)), 4)\n",
    "    p_value = 2 * t.cdf(t_score, degree_freedom)\n",
    "\n",
    "    variables = pd.DataFrame()\n",
    "    variables['mean-1'] = pd.DataFrame([mean_1]) \n",
    "    variables['mean-2'] = pd.DataFrame([mean_2])\n",
    "    variables['std-1'] = pd.DataFrame([std_1])\n",
    "    variables['std-2'] = pd.DataFrame([std_2])\n",
    "    variables['degree-freedom'] = pd.DataFrame([degree_freedom])\n",
    "    variables['critical-region-low'] = pd.DataFrame([round(critical_region_low, 3)])\n",
    "    variables['critical-region-high'] = pd.DataFrame([round(critical_region_high, 3)])\n",
    "    variables['sp^2'] = pd.DataFrame([round(spsquared, 7)])\n",
    "    variables['t-score'] = pd.DataFrame([round(t_score, 3)])\n",
    "    variables['p-value'] = pd.DataFrame([round(p_value, 3)])\n",
    "\n",
    "\n",
    "    # Langkah 6 ambil kesimpulan\n",
    "    if t_score > critical_region_high or t_score < critical_region_low:\n",
    "        print(\"Berdasarkan t-value, Hipotesis nol ditolak\")\n",
    "    else:\n",
    "        print(\"Berdasarkan t-value, Hipotesis nol gagal ditolak\")\n",
    "\n",
    "    if p_value < alpha:\n",
    "        print(\"Berdasarkan tes signifikan, Hipotesis nol ditolak\")\n",
    "    else:\n",
    "        print(\"Berdasarkan tes signifikan, Hipotesis nol gagal ditolak\")\n",
    "\n",
    "    print(\"\"\"\n",
    "    ------------------------------ Kesimpulan -----------------------------\n",
    "    rata-rata chlorides bagian awal lebih besar 0.001 daripada bagian akhir\n",
    "    -----------------------------------------------------------------------\"\"\")\n",
    "    return variables\n",
    "\n",
    "problem_5b()"
   ],
   "execution_count":26,
   "outputs":[
    {
     "name":"stdout",
     "text":[
      "\n",
      "    -------------------------------------------------------- Hipotesa ----------------------------------------------------\n",
      "    Bila kolom chlorides dibagi 2 sama rata, apakah rata-rata bagian awal lebih besar daripada bagian akhir sebesar 0.001?\n",
      "    ----------------------------------------------------------------------------------------------------------------------\n",
      "    \n",
      "Berdasarkan t-value, Hipotesis nol gagal ditolak\n",
      "Berdasarkan tes signifikan, Hipotesis nol gagal ditolak\n",
      "\n",
      "    ------------------------------ Kesimpulan -----------------------------\n",
      "    rata-rata chlorides bagian awal lebih besar 0.001 daripada bagian akhir\n",
      "    -----------------------------------------------------------------------\n"
     ],
     "output_type":"stream"
    },
    {
     "data":{
      "text\/html":[
       "<div>\n",
       "<style scoped>\n",
       "    .dataframe tbody tr th:only-of-type {\n",
       "        vertical-align: middle;\n",
       "    }\n",
       "\n",
       "    .dataframe tbody tr th {\n",
       "        vertical-align: top;\n",
       "    }\n",
       "\n",
       "    .dataframe thead th {\n",
       "        text-align: right;\n",
       "    }\n",
       "<\/style>\n",
       "<table border=\"1\" class=\"dataframe\">\n",
       "  <thead>\n",
       "    <tr style=\"text-align: right;\">\n",
       "      <th><\/th>\n",
       "      <th>mean-1<\/th>\n",
       "      <th>mean-2<\/th>\n",
       "      <th>std-1<\/th>\n",
       "      <th>std-2<\/th>\n",
       "      <th>degree-freedom<\/th>\n",
       "      <th>critical-region-low<\/th>\n",
       "      <th>critical-region-high<\/th>\n",
       "      <th>sp^2<\/th>\n",
       "      <th>t-score<\/th>\n",
       "      <th>p-value<\/th>\n",
       "    <\/tr>\n",
       "  <\/thead>\n",
       "  <tbody>\n",
       "    <tr>\n",
       "      <th>0<\/th>\n",
       "      <td>0.0814<\/td>\n",
       "      <td>0.08099<\/td>\n",
       "      <td>0.02017<\/td>\n",
       "      <td>0.02007<\/td>\n",
       "      <td>998<\/td>\n",
       "      <td>-1.962<\/td>\n",
       "      <td>1.962<\/td>\n",
       "      <td>0.000405<\/td>\n",
       "      <td>-0.464<\/td>\n",
       "      <td>0.643<\/td>\n",
       "    <\/tr>\n",
       "  <\/tbody>\n",
       "<\/table>\n",
       "<\/div>"
      ]
     },
     "metadata":{
      
     },
     "output_type":"display_data"
    }
   ],
   "metadata":{
    "datalore":{
     "node_id":"Rm71WDRHaMA0qeogjsGfCL",
     "type":"CODE",
     "hide_input_from_viewers":false,
     "hide_output_from_viewers":false,
     "report_properties":{
      "rowId":"ifumL8VdPHv11CQhbcTOj5"
     }
    }
   }
  },
  {
   "cell_type":"markdown",
   "source":[
    "## 5c. Benarkah rata-rata sampel 25 baris pertama kolom Volatile Acidity sama dengan rata-rata 25 baris pertama kolom Sulphates ?\n",
    "### Penyelesaian\n",
    "\n",
    "Untuk menentukan kebenaran dari hipotesa rata-rata sampel 25 baris pertama kolom Volatile Acidity sama dengan rata-rata 25 baris pertama kolom Sulphates, akan ditentukan hipotesa null dan hipotesa alternatif:\n",
    "\n",
    "$$H_0 : \\mu_v - \\mu_s = 0$$\n",
    "$$H_1 : \\mu_v - \\mu_s \\neq 0$$\n",
    "\n",
    "$v$ : volatile acidity $s$ : sulphates\n",
    "\n",
    "dengan tingkat signifikansi $\\alpha = 0.05$\n",
    "\n",
    "Didapatkan hasil pengolahan data:\n",
    "$$\n",
    "\\begin{aligned}\n",
    "\\bar{x}_v &= 0.501424 &\n",
    "s_v &= 0.08339\n",
    "\\end{aligned}\n",
    "$$\n",
    "$$\n",
    "\\begin{aligned}\n",
    "\\bar{x}_s &= 0.5768 &\n",
    "s_s &= 0.11603\n",
    "\\end{aligned}\n",
    "$$\n",
    "\n",
    "Dari kedua sampel, akan didapat derajat kebebasan $v$\n",
    "$$\n",
    "\\begin{aligned}\n",
    "v   &= n_v + n_s - 2\\\\\n",
    "    &= 25 + 25 -2 \\\\\n",
    "    &= 48\n",
    "\\end{aligned} \n",
    "$$\n",
    "\n",
    "Akan didapatkan daerah kritis:\n",
    "\n",
    "$$t < -t_{\\alpha\/2} \\cup t > t_{\\alpha\/2}$$\n",
    "$$t < -t_{0.025} \\cup t > t_{0.025}$$\n",
    "$$t < -2.011 \\cup t > 2.011$$\n",
    "\n",
    "Karena tidak terdapat informasi mengenai variansi populasi dan keduanya berasal dari populasi yang berbeda \n",
    "$$ \\sigma_v^2 \\neq \\sigma_s^2 $$ maka dapat dicari hampiran nilai t dengan hampiran nilai derajat kebebasan\n",
    "\n",
    "$$\\begin{aligned}\n",
    "v   &= \\frac{(s^2_v\/n_v+s^2_s\/n_s)^2}{(s^2_v\/n_v)^2\/(n_v-1) + (s^2_s\/n_s)^2\/(n_s-1)} \\\\\n",
    "    &= 43.571\n",
    "\\end{aligned}\n",
    "$$\n",
    "\n",
    "Sehingga bisa dihitung untuk nilai $t$\n",
    "\n",
    "$$\n",
    "\\begin{aligned}\n",
    "t'  & = \\frac{(\\bar{x}_v - \\bar{x}_s) - d_0}{\\sqrt{s^2_v\/n_v + s^2_s\/n_s}} \\\\\n",
    "    & = \\frac{(0.501 - 0.577) - 0}{\\sqrt{0.00695\/25 + 0.013462\/25}} \\\\\n",
    "    & = -2.638\n",
    "\\end{aligned}\n",
    "$$\n",
    "\n",
    "dan\n",
    "$$\n",
    "\\begin{aligned}\n",
    "P   & = P(T > 2.638 \\cap T < -2.638) \\\\\n",
    "    & = 2 \\times P(T > 2.638) \\\\\n",
    "    & = 0.011\n",
    "\\end{aligned}\n",
    "$$\n",
    "\n",
    "\n",
    "Sehingga, karena $t = -2.638 < -2.011$ dan $P = 0.011 < \\alpha = 0.05 $ maka Hipotesa null ditolak\n",
    "\n",
    "### Kesimpulan\n",
    "\n",
    "Rata-rata sampel 25 baris pertama kolom volatile acidity tidak sama dengan rata-rata 25 baris pertama kolom sulphates"
   ],
   "attachments":{
    
   },
   "metadata":{
    "datalore":{
     "node_id":"xtH4iXJVkYdrxF8we8jAre",
     "type":"MD",
     "hide_input_from_viewers":true,
     "hide_output_from_viewers":false,
     "report_properties":{
      "rowId":"UONouw9P4RB0MzVV74RNDj"
     }
    }
   }
  },
  {
   "cell_type":"code",
   "source":[
    "# Bagian 5c\n",
    "\n",
    "def problem_5c():\n",
    "    print(\"\"\"\n",
    "    ---------------------------------------------------------- Hipotesa ------------------------------------------------------\n",
    "    Benarkah rata-rata sampel 25 baris pertama kolom Volatile Acidity sama dengan rata-rata 25 baris pertama kolom Sulphates ?\n",
    "    --------------------------------------------------------------------------------------------------------------------------\n",
    "    \"\"\")\n",
    "\n",
    "    volatile_acidity = data['volatile acidity'][:25]\n",
    "    sulphates = data['sulphates'][:25]\n",
    "    nva = len(volatile_acidity)\n",
    "    ns = len(sulphates)\n",
    "    mean_va = volatile_acidity.mean()\n",
    "    mean_s = sulphates.mean()\n",
    "    std_va = volatile_acidity.std()\n",
    "    std_s = sulphates.std()\n",
    "    degree_freedom = nva + ns - 2\n",
    "\n",
    "    # Langkah 1 menentukan hipotesis nol\n",
    "    # H0 adalah rata-rata 25 volatile acidity - rata-rata 25 sulphates = 0\n",
    "\n",
    "    # Langkah 2 menentukan hipotesis alternatif\n",
    "    # H0 adalah rata-rata 25 volatile acidity - rata-rata 25 sulphates != 0\n",
    "\n",
    "    difference = 0\n",
    "\n",
    "    # Langkah 3 menentukan tingkat signifikansi alpha\n",
    "    alpha = 0.05\n",
    "\n",
    "    # Langkah 4 uji statistik dan daerah kritis\n",
    "    # Uji statistik\n",
    "    # daerah kritis: t > t_alpha\/2 dan t < -t_alpha\/2\n",
    "\n",
    "    critical_region_low = -t.ppf(0.975, degree_freedom)\n",
    "    critical_region_high = t.ppf(0.975, degree_freedom)\n",
    "\n",
    "\n",
    "    # Langkah 5 hitung nilai uji statistik\n",
    "    t_score = round(calculate_taccent_score(mean_va, mean_s, difference, std_va, nva, std_s, ns), 4)\n",
    "    p_value = 2 * t.cdf(t_score, degree_freedom)\n",
    "\n",
    "\n",
    "    variables = pd.DataFrame()\n",
    "    variables['mean-va'] = pd.DataFrame([mean_va]) \n",
    "    variables['mean-s'] = pd.DataFrame([mean_s])\n",
    "    variables['std-va'] = pd.DataFrame([std_va])\n",
    "    variables['std-s'] = pd.DataFrame([std_s])\n",
    "    variables['degree-freedom'] = pd.DataFrame([degree_freedom])\n",
    "    variables['critical-region-low'] = pd.DataFrame([round(critical_region_low, 3)])\n",
    "    variables['critical-region-high'] = pd.DataFrame([round(critical_region_high, 3)])\n",
    "    variables['t-score'] = pd.DataFrame([round(t_score, 3)])\n",
    "    variables['p-value'] = pd.DataFrame([round(p_value, 3)])\n",
    "\n",
    "    # Langkah 6 ambil kesimpulan\n",
    "    if t_score > critical_region_high or t_score < critical_region_low:\n",
    "        print(\"Berdasarkan t-value, Hipotesis nol ditolak\")\n",
    "    else:\n",
    "        print(\"Berdasarkan t-value, Hipotesis nol gagal ditolak\")\n",
    "\n",
    "    if p_value < alpha:\n",
    "        print(\"Berdasarkan tes signifikan, Hipotesis nol ditolak\")\n",
    "    else:\n",
    "        print(\"Berdasarkan tes signifikan, Hipotesis nol gagal ditolak\")\n",
    "\n",
    "    print(\"\"\"\n",
    "    -------------------------------------------- Kesimpulan ------------------------------------------\n",
    "    rata-rata 25 baris pertama volatile acidity tidak sama dengan rata-rata 25 baris pertama sulphates\n",
    "    --------------------------------------------------------------------------------------------------\"\"\")\n",
    "    return variables\n",
    "\n",
    "problem_5c()"
   ],
   "execution_count":27,
   "outputs":[
    {
     "name":"stdout",
     "text":[
      "\n",
      "    ---------------------------------------------------------- Hipotesa ------------------------------------------------------\n",
      "    Benarkah rata-rata sampel 25 baris pertama kolom Volatile Acidity sama dengan rata-rata 25 baris pertama kolom Sulphates ?\n",
      "    --------------------------------------------------------------------------------------------------------------------------\n",
      "    \n",
      "Berdasarkan t-value, Hipotesis nol ditolak\n",
      "Berdasarkan tes signifikan, Hipotesis nol ditolak\n",
      "\n",
      "    -------------------------------------------- Kesimpulan ------------------------------------------\n",
      "    rata-rata 25 baris pertama volatile acidity tidak sama dengan rata-rata 25 baris pertama sulphates\n",
      "    --------------------------------------------------------------------------------------------------\n"
     ],
     "output_type":"stream"
    },
    {
     "data":{
      "text\/html":[
       "<div>\n",
       "<style scoped>\n",
       "    .dataframe tbody tr th:only-of-type {\n",
       "        vertical-align: middle;\n",
       "    }\n",
       "\n",
       "    .dataframe tbody tr th {\n",
       "        vertical-align: top;\n",
       "    }\n",
       "\n",
       "    .dataframe thead th {\n",
       "        text-align: right;\n",
       "    }\n",
       "<\/style>\n",
       "<table border=\"1\" class=\"dataframe\">\n",
       "  <thead>\n",
       "    <tr style=\"text-align: right;\">\n",
       "      <th><\/th>\n",
       "      <th>mean-va<\/th>\n",
       "      <th>mean-s<\/th>\n",
       "      <th>std-va<\/th>\n",
       "      <th>std-s<\/th>\n",
       "      <th>degree-freedom<\/th>\n",
       "      <th>critical-region-low<\/th>\n",
       "      <th>critical-region-high<\/th>\n",
       "      <th>t-score<\/th>\n",
       "      <th>p-value<\/th>\n",
       "    <\/tr>\n",
       "  <\/thead>\n",
       "  <tbody>\n",
       "    <tr>\n",
       "      <th>0<\/th>\n",
       "      <td>0.501424<\/td>\n",
       "      <td>0.5768<\/td>\n",
       "      <td>0.083393<\/td>\n",
       "      <td>0.116036<\/td>\n",
       "      <td>48<\/td>\n",
       "      <td>-2.011<\/td>\n",
       "      <td>2.011<\/td>\n",
       "      <td>-2.638<\/td>\n",
       "      <td>0.011<\/td>\n",
       "    <\/tr>\n",
       "  <\/tbody>\n",
       "<\/table>\n",
       "<\/div>"
      ]
     },
     "metadata":{
      
     },
     "output_type":"display_data"
    }
   ],
   "metadata":{
    "datalore":{
     "node_id":"qWoMAq2LSeRaJ9MpX2cnP9",
     "type":"CODE",
     "hide_input_from_viewers":false,
     "hide_output_from_viewers":false,
     "report_properties":{
      "rowId":"bCW9pu57hbon9vjCp2cEN7"
     }
    }
   }
  },
  {
   "cell_type":"markdown",
   "source":[
    "## 5d. Bagian awal kolom residual sugar memiliki variansi yang sama dengan bagian akhirnya?\n",
    "### Penyelesaian\n",
    "\n",
    "Untuk menentukan kebenaran dari hipotesa Bagian awal kolom residual sugar memiliki variansi yang sama dengan bagian akhirnya, akan ditentukan hipotesa null dan hipotesa alternatif:\n",
    "\n",
    "$$H_0 : \\sigma_1^2 - \\sigma_2^2 = 0$$\n",
    "$$H_1 : \\sigma_1^2 - \\sigma_2^2 \\neq 0$$\n",
    "\n",
    "$1$ : bagian awal, $2$ : bagian akhir\n",
    "\n",
    "dengan tingkat signifikansi $\\alpha = 0.05$\n",
    "\n",
    "Didapatkan hasil pengolahan data:\n",
    "$$\n",
    "\\begin{aligned}\n",
    "n_1 &= 500 &\n",
    "s_1^2 &= 0.94777\n",
    "\\end{aligned}\n",
    "$$\n",
    "$$\n",
    "\\begin{aligned}\n",
    "n_2 &= 500 &\n",
    "s_2^2 &= 1.00612\n",
    "\\end{aligned}\n",
    "$$\n",
    "\n",
    "Untuk pencarian perbandingan rasio variansi antara dua sampel, maka akan digunakan uji statistik f\n",
    "\n",
    "\n",
    "Akan didapat derajat kebebasan $v_1$ dan $v_2$ untuk setiap sampel:\n",
    "$$\n",
    "\\begin{aligned}\n",
    "v_1 &= n_1 -1\\\\\n",
    "    &= 500 -1 \\\\\n",
    "    &= 499\n",
    "\\end{aligned} \n",
    "$$\n",
    "$$\n",
    "\\begin{aligned}\n",
    "v_2 &= n_2 -1\\\\\n",
    "    &= 500 -1 \\\\\n",
    "    &= 499\n",
    "\\end{aligned} \n",
    "$$\n",
    "\n",
    "Akan didapatkan daerah kritis menggunakan $\\alpha$, $v_1$, $v_2$:\n",
    "\n",
    "$$f < f_{1-\\alpha\/2}(v_1, v_2) \\cup f > f_{\\alpha\/2}(v_1, v_2)$$\n",
    "$$f < f_{0.975}(499,499) \\cup f > f_{0.025}(499, 499)$$\n",
    "$$f < 0.839 \\cup f > 1.192$$\n",
    "\n",
    "Lalu bisa dihitung untuk nilai $f$\n",
    "\n",
    "$$\n",
    "\\begin{aligned}\n",
    "    f   & = \\frac{s^2_1}{s^2_2} \\\\\n",
    "        & = \\frac{0.94777}{1.00612} \\\\\n",
    "        & = 0.942\n",
    "\\end{aligned}\n",
    "$$\n",
    "\n",
    "dan\n",
    "$$\n",
    "\\begin{aligned}\n",
    "P   & = 2 \\times P(f < 0.942) \\\\\n",
    "    & = 0.505\n",
    "\\end{aligned}\n",
    "$$\n",
    "\n",
    "\n",
    "Sehingga, karena $f = 0.942 \\nless 0.839$ dan $f = 0.942 \\ngtr 1.192$ dan $P = 0.505 \\nless \\alpha = 0.05 $ maka Hipotesa null gagal ditolak\n",
    "\n",
    "### Kesimpulan\n",
    "\n",
    "Bagian awal kolom residual sugar memiliki variansi yang sama dengan bagian akhirnya"
   ],
   "attachments":{
    
   },
   "metadata":{
    "datalore":{
     "node_id":"vx0VsRNYtKU9PfGTA8UkMA",
     "type":"MD",
     "hide_input_from_viewers":true,
     "hide_output_from_viewers":false,
     "report_properties":{
      "rowId":"xYkvlSSpTo1gG4ODmrao95"
     }
    }
   }
  },
  {
   "cell_type":"code",
   "source":[
    "# Bagian 5d\n",
    "\n",
    "def problem_5d():\n",
    "    print(\"\"\"\n",
    "    ------------------------------------------- Hipotesa ----------------------------------------\n",
    "    Benarkah Bagian awal kolom residual sugar memiliki variansi yang sama dengan bagian akhirnya?\n",
    "    ---------------------------------------------------------------------------------------------\n",
    "    \"\"\")\n",
    "\n",
    "    length_offset = int(len(data['residual sugar']) \/ 2)\n",
    "    data_1 = data['residual sugar'][:length_offset]\n",
    "    data_2 = data['residual sugar'][length_offset:]\n",
    "    n_1 = len(data_1)\n",
    "    n_2 = len(data_2)\n",
    "    var_1 = data_1.var()\n",
    "    var_2 = data_2.var()\n",
    "    degree_freedom_1 = n_1 - 1\n",
    "    degree_freedom_2 = n_2 - 1\n",
    "\n",
    "    # Langkah 1 menentukan hipotesis nol\n",
    "    # H0 adalah variansi bagian awal - variansi bagian akhir = 0\n",
    "\n",
    "    # Langkah 2 menentukan hipotesis alternatif\n",
    "    # H0 adalah variansi bagian awal - variansi bagian akhir != 0\n",
    "\n",
    "    difference = 0\n",
    "\n",
    "    # Langkah 3 menentukan tingkat signifikansi alpha\n",
    "    alpha = 0.05\n",
    "\n",
    "    # Langkah 4 uji statistik dan daerah kritis\n",
    "    # Uji statistik\n",
    "    # daerah kritis: f > f_alpha\/2 dan f < -f_1-alpha\/2\n",
    "\n",
    "    # Rumus dibalik karena ppf merupakan invers \n",
    "    critical_region_low = f.ppf(alpha\/2, degree_freedom_1, degree_freedom_2)\n",
    "    critical_region_high = f.ppf(1-alpha\/2, degree_freedom_1, degree_freedom_2)\n",
    "\n",
    "\n",
    "    # Langkah 5 hitung nilai uji statistik\n",
    "    f_score = calculate_f_score(var_1, var_2)\n",
    "    if f_score < 1:\n",
    "        p_value = 2 * f.cdf(f_score, degree_freedom_1, degree_freedom_2)\n",
    "    else:\n",
    "        p_value = 2 * (1 - f.cdf(f_score, degree_freedom_1, degree_freedom_2))\n",
    "\n",
    "\n",
    "    variables = pd.DataFrame()\n",
    "    variables['var-1'] = pd.DataFrame([var_1])\n",
    "    variables['var-2'] = pd.DataFrame([var_2])\n",
    "    variables['degree-freedom-1'] = pd.DataFrame([degree_freedom_1])\n",
    "    variables['degree-freedom-2'] = pd.DataFrame([degree_freedom_2])\n",
    "    variables['critical-region-low'] = pd.DataFrame([round(critical_region_low, 3)])\n",
    "    variables['critical-region-high'] = pd.DataFrame([round(critical_region_high, 3)])\n",
    "    variables['f-score'] = pd.DataFrame([round(f_score, 3)])\n",
    "    variables['p-value'] = pd.DataFrame([round(p_value, 3)])\n",
    "\n",
    "    # Langkah 6 ambil kesimpulan\n",
    "    if f_score > critical_region_high or f_score < critical_region_low:\n",
    "        print(\"Berdasarkan f-value, Hipotesis nol ditolak\")\n",
    "    else:\n",
    "        print(\"Berdasarkan f-value, Hipotesis nol gagal ditolak\")\n",
    "\n",
    "    if p_value < alpha:\n",
    "        print(\"Berdasarkan tes signifikan, Hipotesis nol ditolak\")\n",
    "    else:\n",
    "        print(\"Berdasarkan tes signifikan, Hipotesis nol gagal ditolak\")\n",
    "\n",
    "    print(\"\"\"\n",
    "    ------------------------------------- Kesimpulan ----------------------------------\n",
    "    Bagian awal kolom residual sugar memiliki variansi yang sama dengan bagian akhirnya\n",
    "    -----------------------------------------------------------------------------------\"\"\")\n",
    "    return variables\n",
    "\n",
    "problem_5d()"
   ],
   "execution_count":28,
   "outputs":[
    {
     "name":"stdout",
     "text":[
      "\n",
      "    ------------------------------------------- Hipotesa ----------------------------------------\n",
      "    Benarkah Bagian awal kolom residual sugar memiliki variansi yang sama dengan bagian akhirnya?\n",
      "    ---------------------------------------------------------------------------------------------\n",
      "    \n",
      "Berdasarkan f-value, Hipotesis nol gagal ditolak\n",
      "Berdasarkan tes signifikan, Hipotesis nol gagal ditolak\n",
      "\n",
      "    ------------------------------------- Kesimpulan ----------------------------------\n",
      "    Bagian awal kolom residual sugar memiliki variansi yang sama dengan bagian akhirnya\n",
      "    -----------------------------------------------------------------------------------\n"
     ],
     "output_type":"stream"
    },
    {
     "data":{
      "text\/html":[
       "<div>\n",
       "<style scoped>\n",
       "    .dataframe tbody tr th:only-of-type {\n",
       "        vertical-align: middle;\n",
       "    }\n",
       "\n",
       "    .dataframe tbody tr th {\n",
       "        vertical-align: top;\n",
       "    }\n",
       "\n",
       "    .dataframe thead th {\n",
       "        text-align: right;\n",
       "    }\n",
       "<\/style>\n",
       "<table border=\"1\" class=\"dataframe\">\n",
       "  <thead>\n",
       "    <tr style=\"text-align: right;\">\n",
       "      <th><\/th>\n",
       "      <th>var-1<\/th>\n",
       "      <th>var-2<\/th>\n",
       "      <th>degree-freedom-1<\/th>\n",
       "      <th>degree-freedom-2<\/th>\n",
       "      <th>critical-region-low<\/th>\n",
       "      <th>critical-region-high<\/th>\n",
       "      <th>f-score<\/th>\n",
       "      <th>p-value<\/th>\n",
       "    <\/tr>\n",
       "  <\/thead>\n",
       "  <tbody>\n",
       "    <tr>\n",
       "      <th>0<\/th>\n",
       "      <td>0.947771<\/td>\n",
       "      <td>1.006122<\/td>\n",
       "      <td>499<\/td>\n",
       "      <td>499<\/td>\n",
       "      <td>0.839<\/td>\n",
       "      <td>1.192<\/td>\n",
       "      <td>0.942<\/td>\n",
       "      <td>0.505<\/td>\n",
       "    <\/tr>\n",
       "  <\/tbody>\n",
       "<\/table>\n",
       "<\/div>"
      ]
     },
     "metadata":{
      
     },
     "output_type":"display_data"
    }
   ],
   "metadata":{
    "datalore":{
     "node_id":"jSMRObEseIZO3UyzCISPs3",
     "type":"CODE",
     "hide_input_from_viewers":false,
     "hide_output_from_viewers":false,
     "report_properties":{
      "rowId":"kU7k7AgecJVTC4mTw4bDjd"
     }
    }
   }
  },
  {
   "cell_type":"markdown",
   "source":[
    "## 5e. Proporsi nilai setengah bagian awal alcohol yang lebih dari 7, adalah lebih besar daripada, proporsi nilai yang sama di setengah bagian akhir alcohol?\n",
    "### Penyelesaian\n",
    "\n",
    "Untuk menentukan kebenaran dari hipotesa Proporsi nilai setengah bagian awal alcohol yang lebih dari 7, adalah lebih besar daripada, proporsi nilai yang sama di setengah bagian akhir alcohol, akan ditentukan hipotesa null dan hipotesa alternatif:\n",
    "\n",
    "$$H_0 : p_1 - p_2 = 0$$\n",
    "$$H_1 : p_1 - p_2 > 0$$\n",
    "\n",
    "$1$ : bagian awal, $2$ : bagian akhir, dengan $p$ merupakan proporsi nilai yang lebih dari 7\n",
    "\n",
    "dengan tingkat signifikansi $\\alpha = 0.05$\n",
    "\n",
    "Didapatkan hasil pengolahan data:\n",
    "$$\n",
    "\\begin{aligned}\n",
    "x_1 &=  495&\n",
    "n_1 &= 500\n",
    "\\end{aligned}\n",
    "$$\n",
    "$$\n",
    "\\begin{aligned}\n",
    "x_2 &=  495&\n",
    "n_2 &= 500\n",
    "\\end{aligned}\n",
    "$$\n",
    "\n",
    "Sehingga didapatkan nilai $\\hat{p}$:\n",
    "$$\n",
    "\\begin{aligned}\n",
    "\\hat{p} &= \\frac{x_1 + x_2}{n_1 + n_2} \\\\\n",
    "        &= \\frac{495 + 495}{500 + 500} \\\\\n",
    "        &= \\frac{990}{1000} \\\\\n",
    "        &= 0.99\n",
    "\\end{aligned}\n",
    "$$\n",
    "\n",
    "Akan didapatkan daerah kritis :\n",
    "\n",
    "$$Z > Z_\\alpha = Z_{0.05} = 1.644 $$\n",
    "\n",
    "dan\n",
    "$$\n",
    "\\begin{aligned}\n",
    "\\hat{p_1}   &= \\frac{495}{500} \\\\\n",
    "            &= 0.99 \\\\\n",
    "\\hat{p_2}   &= \\frac{495}{500} \\\\\n",
    "            &= 0.99 \\\\\n",
    "\\end{aligned}\n",
    "$$\n",
    "\n",
    "Lalu bisa dihitung untuk nilai $Z$\n",
    "\n",
    "$$\n",
    "\\begin{aligned}\n",
    "Z   &= \\frac{\\hat{p_1} - \\hat{p_2}}{\\hat{p} \\hat{q} (\\frac{1}{n_1} + \\frac{1}{n_2})} \\\\\n",
    "    &= \\frac{0.99 - 0.99}{0.99 \\times 0.01 (\\frac{1}{500} + \\frac{1}{500})} \\\\\n",
    "    &= 0\n",
    "\\end{aligned}\n",
    "$$\n",
    "\n",
    "dan\n",
    "$$\n",
    "\\begin{aligned}\n",
    "P   & =  P(Z \\geq 0) \\\\\n",
    "    & = 1 - P(Z < 0) \\\\\n",
    "    & = 1 - 0.5 \\\\\n",
    "    & = 0.5\n",
    "\\end{aligned}\n",
    "$$\n",
    "\n",
    "\n",
    "Sehingga, karena $Z = 0 \\ngtr 1.644$ dan $P = 0.5 \\nless \\alpha = 0.05 $ maka Hipotesa null gagal ditolak\n",
    "\n",
    "### Kesimpulan\n",
    "\n",
    "Proporsi nilai setengah bagian awal alcohol yang lebih dari 7, tidak lebih besar daripada, proporsi nilai yang sama di setengah bagian akhir alcohol\n"
   ],
   "attachments":{
    
   },
   "metadata":{
    "datalore":{
     "node_id":"OrWdOqUTTg8TpdyCY8H32t",
     "type":"MD",
     "hide_input_from_viewers":true,
     "hide_output_from_viewers":false,
     "report_properties":{
      "rowId":"nkyi2DWftNNxyUbB0RrEax"
     }
    }
   }
  },
  {
   "cell_type":"code",
   "source":[
    "# Bagian 5e\n",
    "\n",
    "def problem_5e():\n",
    "    print(\"\"\"\n",
    "    ------------------------------------------------------------------------ Hipotesa --------------------------------------------------------------------\n",
    "    Proporsi nilai setengah bagian awal alcohol yang lebih dari 7, adalah lebih besar daripada, proporsi nilai yang sama di setengah bagian akhir alcohol?\n",
    "    ------------------------------------------------------------------------------------------------------------------------------------------------------\n",
    "    \"\"\")\n",
    "\n",
    "    target = 7\n",
    "\n",
    "    length_offset = int(len(data['alcohol']) \/ 2)\n",
    "    data_1 = data['alcohol'][:length_offset]\n",
    "    data_2 = data['alcohol'][length_offset:]\n",
    "    n_1 = len(data_1)\n",
    "    n_2 = len(data_2)\n",
    "    x_1 = len(data_1.loc[data['alcohol'][:length_offset] > target])\n",
    "    x_2 = len(data_2.loc[data['alcohol'][length_offset:] > target])\n",
    "    x = len(data.loc[data['alcohol'] > target])\n",
    "\n",
    "    # Langkah 1 menentukan hipotesis nol\n",
    "    # H0 adalah proporsi bagian awal - proporsi bagian akhir = 0\n",
    "\n",
    "    # Langkah 2 menentukan hipotesis alternatif\n",
    "    # H0 adalah proporsi bagian awal - proporsi bagian akhir != 0\n",
    "\n",
    "    difference = 0\n",
    "\n",
    "    # Langkah 3 menentukan tingkat signifikansi alpha\n",
    "    alpha = 0.05\n",
    "\n",
    "    # Langkah 4 uji statistik dan daerah kritis\n",
    "    # Uji statistik\n",
    "    # daerah kritis: z > z_alpha\n",
    "    z_alpha = norm.ppf(1-alpha)\n",
    "\n",
    "    # Langkah 5 hitung nilai uji statistik\n",
    "    # data sulphate keseluruhan dianggap data populasi sehingga nilai stdev dan rata-rata\n",
    "    # menggunakan data keseluruhan, bukan sampel\n",
    "    z_score = calculate_z_score_proportions(x_1\/n_1, x_2\/n_2, x\/(n_1 + n_2), n_1, n_2)\n",
    "    p_value = norm.cdf(z_score) # two tailed\n",
    "\n",
    "\n",
    "    variables = pd.DataFrame()\n",
    "    variables['n-1'] = pd.DataFrame([n_1])\n",
    "    variables['n-2'] = pd.DataFrame([n_2])\n",
    "    variables['x-1'] = pd.DataFrame([x_1])\n",
    "    variables['x-2'] = pd.DataFrame([x_2])\n",
    "    variables['x'] = pd.DataFrame([x])\n",
    "    variables['z-alpha'] = pd.DataFrame([z_alpha])\n",
    "    variables['z-score'] = pd.DataFrame([z_score])\n",
    "    variables['p-value'] = pd.DataFrame([p_value])\n",
    "\n",
    "    # Langkah 6 ambil kesimpulan\n",
    "    if z_score > z_alpha:\n",
    "        print(f\"Berdasarkan z-value, Hipotesis nol ditolak karena {z_score:.2f} > {z_alpha:.2f}\")\n",
    "    else:\n",
    "        print(\"Berdasarkan z-value, Hipotesis nol gagal ditolak\")\n",
    "\n",
    "    if p_value < alpha:\n",
    "        print(f\"Berdasarkan tes signifikan, Hipotesis nol ditolak karena {p_value} < {alpha:.2f}\")\n",
    "    else:\n",
    "        print(\"Berdasarkan tes signifikan, Hipotesis nol gagal ditolak\")\n",
    "\n",
    "    print(\"\"\"\n",
    "    ----------------------------------------------------------------------- Kesimpulan -----------------------------------------------------------------\n",
    "    Proporsi nilai setengah bagian awal alcohol yang lebih dari 7, tidak lebih besar daripada, proporsi nilai yang sama di setengah bagian akhir alcohol\n",
    "    ----------------------------------------------------------------------------------------------------------------------------------------------------\n",
    "    \"\"\")\n",
    "    \n",
    "    return variables\n",
    "\n",
    "problem_5e()"
   ],
   "execution_count":29,
   "outputs":[
    {
     "name":"stdout",
     "text":[
      "\n",
      "    ------------------------------------------------------------------------ Hipotesa --------------------------------------------------------------------\n",
      "    Proporsi nilai setengah bagian awal alcohol yang lebih dari 7, adalah lebih besar daripada, proporsi nilai yang sama di setengah bagian akhir alcohol?\n",
      "    ------------------------------------------------------------------------------------------------------------------------------------------------------\n",
      "    \n",
      "Berdasarkan z-value, Hipotesis nol gagal ditolak\n",
      "Berdasarkan tes signifikan, Hipotesis nol gagal ditolak\n",
      "\n",
      "    ----------------------------------------------------------------------- Kesimpulan -----------------------------------------------------------------\n",
      "    Proporsi nilai setengah bagian awal alcohol yang lebih dari 7, tidak lebih besar daripada, proporsi nilai yang sama di setengah bagian akhir alcohol\n",
      "    ----------------------------------------------------------------------------------------------------------------------------------------------------\n",
      "    \n"
     ],
     "output_type":"stream"
    },
    {
     "data":{
      "text\/html":[
       "<div>\n",
       "<style scoped>\n",
       "    .dataframe tbody tr th:only-of-type {\n",
       "        vertical-align: middle;\n",
       "    }\n",
       "\n",
       "    .dataframe tbody tr th {\n",
       "        vertical-align: top;\n",
       "    }\n",
       "\n",
       "    .dataframe thead th {\n",
       "        text-align: right;\n",
       "    }\n",
       "<\/style>\n",
       "<table border=\"1\" class=\"dataframe\">\n",
       "  <thead>\n",
       "    <tr style=\"text-align: right;\">\n",
       "      <th><\/th>\n",
       "      <th>n-1<\/th>\n",
       "      <th>n-2<\/th>\n",
       "      <th>x-1<\/th>\n",
       "      <th>x-2<\/th>\n",
       "      <th>x<\/th>\n",
       "      <th>z-alpha<\/th>\n",
       "      <th>z-score<\/th>\n",
       "      <th>p-value<\/th>\n",
       "    <\/tr>\n",
       "  <\/thead>\n",
       "  <tbody>\n",
       "    <tr>\n",
       "      <th>0<\/th>\n",
       "      <td>500<\/td>\n",
       "      <td>500<\/td>\n",
       "      <td>495<\/td>\n",
       "      <td>495<\/td>\n",
       "      <td>990<\/td>\n",
       "      <td>1.644854<\/td>\n",
       "      <td>0.0<\/td>\n",
       "      <td>0.5<\/td>\n",
       "    <\/tr>\n",
       "  <\/tbody>\n",
       "<\/table>\n",
       "<\/div>"
      ]
     },
     "metadata":{
      
     },
     "output_type":"display_data"
    }
   ],
   "metadata":{
    "datalore":{
     "node_id":"K4DKuwG9Hb19LfRG7mvaUu",
     "type":"CODE",
     "hide_input_from_viewers":false,
     "hide_output_from_viewers":false,
     "report_properties":{
      "rowId":"itqbB6r3bXMOlPI0mVK6LJ"
     }
    }
   }
  }
 ],
 "metadata":{
  "kernelspec":{
   "display_name":"Python",
   "language":"python",
   "name":"python"
  },
  "datalore":{
   "computation_mode":"JUPYTER",
   "package_manager":"pip",
   "base_environment":"default",
   "packages":[
    
   ],
   "report_row_ids":[
    "iOeFugVOxR3r3IahFMpn3i",
    "45Ew11HvJ6NWSpvIJv1Lpo",
    "8xg5HNrHdaTwN2Z8w1FPLS",
    "ZpqJr3TE0gYoPBbYA5wkjW",
    "RZsjk5JqYGbysT6y0UmIey",
    "qX91MbrUQWGRWFdmg0qf5Q",
    "WdsEMOGbR67jqEB7VLpK7w",
    "TatQNnC3VtfZT847s2FqJN",
    "PiTC3Fe5N233rqwpcN0K4S",
    "GOjli6Z0eQkGHUx4aHt60O",
    "8E9EA4DZZ93x5Z7cm13qPy",
    "oXBehy63o3oYnwl9Se1awe",
    "pTQNCspHkjNSTCInN07k3x",
    "HBh9ZqpBMai3ybvd5etPjT",
    "e6XP77hx6TLbaC8oKpDPHu",
    "b1VG5g0U3d2Kh0obJgLYjw",
    "rDIjBgkm99pG32w9cuhJMh",
    "eeSVPotiSRd57kwEEK16bL",
    "Bkqj2ToZ0diJEJDK6DjYMO",
    "rGcT0cQyxnSBahIExMvfxR",
    "Atz7p6l0xUDZbFiOqNWOr0",
    "qq05oB1IJ1htBbNMpBU88U",
    "gGarOaeyahN5LsqAQX05Ct",
    "IjSG67jr9xLu4feYLt1vx5",
    "T7NXrQORDxGiyRL06g8eot",
    "0ZIW9vtUEhXHhX6ntM4RfG",
    "eB1bt5GaJiJm5QoAoeHoY8",
    "XWSkLs0kxhyAxkLTfaz5rN",
    "yNYDTFFCJv187R9Wvgkuzz",
    "PahJNyFdqrWcysTPomjRVD",
    "YoZ4f7AMsMOqaWWadbWgvm",
    "AuUQd17K9rn3qoZhD9meRe",
    "8TLSthpDZuprRQLcJ91SzT",
    "NVftP1dudwCfXPwtMQyeHx",
    "ntskDYmJC3KylPPo1gDreh",
    "dTb58Pf6ZDFerLX5EnQuiB",
    "Xqrd6fGFRRRqO8fgb2UY6f",
    "lMmS202Vr74pGJD1BBDTzP",
    "uKOYQqbPSlPPRvQLEYPJ60",
    "GhKaTcEjl6bo51Y8POahuv",
    "Ohy5CtlVg2xsr4QcvXkgnP",
    "zykmglqTTmQwkevAsHXrmA",
    "9fyEdzeicG8a9MUn3X01f8",
    "4czqx8Lg3BqdrGFg7euHdj",
    "AKSg04yH4R3h7zkMyKpVC0",
    "NAqymApuW5JIg4LgwpZyfb",
    "t5I6c5sB0epzliLjgI8EVH",
    "2YMhyUe3AVimkTiN5V4jYh",
    "c0fEJ5NcwohYvAx1VpR76l",
    "kQMRYP112UOpboZY14KX3f",
    "6zXDXelU80jRAgisxXNp7z",
    "XAJxKSxKGlladNTjA5v2bi",
    "IEsJzqmb903GNyHtN9nlis",
    "PmzkhsoMymQigRtOwOzMtq",
    "Sb99rZY2LqLvrSlNSjXeTq",
    "ifumL8VdPHv11CQhbcTOj5",
    "UONouw9P4RB0MzVV74RNDj",
    "bCW9pu57hbon9vjCp2cEN7",
    "xYkvlSSpTo1gG4ODmrao95",
    "kU7k7AgecJVTC4mTw4bDjd",
    "nkyi2DWftNNxyUbB0RrEax",
    "itqbB6r3bXMOlPI0mVK6LJ"
   ],
   "version":3
  }
 },
 "nbformat":4,
 "nbformat_minor":4
}